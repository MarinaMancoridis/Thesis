{
 "cells": [
  {
   "cell_type": "markdown",
   "id": "a22926dc",
   "metadata": {},
   "source": [
    "# Phase 1:\n",
    "Participants are faced with a multi-armed bandit problem where they pull from vessels with undisclosed contents and no priors. There will be two settings: a life-threatening one in which they are trying to find out which drugs are safe for public consumption and a purely informative one where they are analyzing ratings for a product. In each setting, they will pull content from the vessels and report their results to a board."
   ]
  },
  {
   "cell_type": "code",
   "execution_count": 1,
   "id": "a396ceba",
   "metadata": {},
   "outputs": [],
   "source": [
    "# Prompt to the prober in the poisonous mushroom setting\n",
    "prompt = \"In this experiment, you are \""
   ]
  },
  {
   "cell_type": "code",
   "execution_count": null,
   "id": "fd9e7476",
   "metadata": {},
   "outputs": [],
   "source": [
    "# Prompt to the prober in the product ratings setting\n"
   ]
  },
  {
   "cell_type": "code",
   "execution_count": null,
   "id": "457f545a",
   "metadata": {},
   "outputs": [],
   "source": []
  }
 ],
 "metadata": {
  "kernelspec": {
   "display_name": "Python 3 (ipykernel)",
   "language": "python",
   "name": "python3"
  },
  "language_info": {
   "codemirror_mode": {
    "name": "ipython",
    "version": 3
   },
   "file_extension": ".py",
   "mimetype": "text/x-python",
   "name": "python",
   "nbconvert_exporter": "python",
   "pygments_lexer": "ipython3",
   "version": "3.8.8"
  }
 },
 "nbformat": 4,
 "nbformat_minor": 5
}
