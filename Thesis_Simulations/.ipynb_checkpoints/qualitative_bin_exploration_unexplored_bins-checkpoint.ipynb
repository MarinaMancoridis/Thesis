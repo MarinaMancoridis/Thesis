{
 "cells": [
  {
   "cell_type": "code",
   "execution_count": 93,
   "id": "6d6f77f6",
   "metadata": {},
   "outputs": [],
   "source": [
    "import pandas as pd\n",
    "import matplotlib.pylab as plt\n",
    "import numpy as np\n",
    "import scipy\n",
    "from scipy.stats import beta, binom, entropy\n",
    "import random\n",
    "import json\n",
    "import copy\n",
    "import math\n",
    "import pickle\n",
    "import statistics\n",
    "from scipy import stats\n",
    "\n",
    "# my modules\n",
    "import scientist\n",
    "import evaluation\n",
    "import helper\n",
    "import settings\n",
    "import publisher"
   ]
  },
  {
   "cell_type": "code",
   "execution_count": 94,
   "id": "db64377a",
   "metadata": {},
   "outputs": [],
   "source": [
    "# global variables\n",
    "num_bins = 20\n",
    "num_draws = 10\n",
    "num_participants = 10\n",
    "num_generations = 15\n",
    "\n",
    "# distribution of bins\n",
    "bins_to_probs = {}\n",
    "for i in range(0, num_bins):\n",
    "    bins_to_probs[i] = np.random.uniform(low=0.0, high=1.0)"
   ]
  },
  {
   "cell_type": "code",
   "execution_count": 95,
   "id": "ee2dba6d",
   "metadata": {},
   "outputs": [],
   "source": [
    "def make_participants(setting, alpha_value):\n",
    "    participants = []\n",
    "\n",
    "    for i in range (0, num_participants):\n",
    "        if setting == \"rate\":\n",
    "            report_set = settings.ReportingSetting(\"rate\")\n",
    "        elif setting == \"data\":\n",
    "            report_set = settings.ReportingSetting(\"data\")\n",
    "        elif setting == \"subset\":\n",
    "            report_set = settings.ReportingSetting(\"subset\")\n",
    "\n",
    "        # make participant\n",
    "        participant = scientist.Participant(alpha=alpha_value, reporting_setting=report_set)\n",
    "                        \n",
    "        participants.append(participant)\n",
    "\n",
    "    return(participants)"
   ]
  },
  {
   "cell_type": "code",
   "execution_count": 96,
   "id": "8b879e6b",
   "metadata": {},
   "outputs": [],
   "source": [
    "def run_experiment_unexplored_bins(setting, alpha_value, rel_pl_data_val, rel_pl_surprise_val, rel_pl_bias_val):\n",
    "    scientific_record = {}\n",
    "    for bin_num in range(0, num_bins):\n",
    "        scientific_record[bin_num] = {} \n",
    "        scientific_record[bin_num][0] = 1\n",
    "        scientific_record[bin_num][1] = 1\n",
    "    \n",
    "    seen_bins = {}\n",
    "    for bin_num in range(0, num_bins):\n",
    "        seen_bins[bin_num] = False\n",
    "        \n",
    "    publications_about_unexplored_bins_per_gen = {}\n",
    "    \n",
    "    for generation in range(0, num_generations):       \n",
    "        # each generation gets an entirely new set of participants\n",
    "        participants = make_participants(setting, alpha_value)\n",
    "\n",
    "        # scientists explore and submit reports\n",
    "        for participant in participants:\n",
    "            # sample\n",
    "            for i in range(0, num_draws):\n",
    "                bin_number, value = participant.sample(scientific_record, num_bins, bins_to_probs)\n",
    "\n",
    "            # choose the bin\n",
    "            bin_choice = participant.choose_bin(scientific_record, num_bins, num_draws)\n",
    "\n",
    "            # make a report\n",
    "            participant.report(num_bins, num_draws)\n",
    "            \n",
    "        # the peer review board selects reports for publication and returns the updated scientific record\n",
    "        scientific_record, num_new, seen_bins = publisher.peer_review_unexplored_bins(participants, scientific_record, rel_pl_data_val, rel_pl_surprise_val, rel_pl_bias_val, num_draws, seen_bins)\n",
    "        \n",
    "#         kl_per_gen[generation] = evaluation.total_entropy_score(scientific_record, bins_to_probs)\n",
    "        publications_about_unexplored_bins_per_gen[generation] = num_new\n",
    "    \n",
    "    return(evaluation.arm_parameter_score(scientific_record, bins_to_probs), evaluation.total_entropy_score(scientific_record, bins_to_probs), publications_about_unexplored_bins_per_gen)"
   ]
  },
  {
   "cell_type": "code",
   "execution_count": null,
   "id": "53d28f15",
   "metadata": {},
   "outputs": [
    {
     "name": "stdout",
     "output_type": "stream",
     "text": [
      "0\n",
      "1\n",
      "2\n",
      "3\n"
     ]
    }
   ],
   "source": [
    "gen_to_vals = {}\n",
    "for i in range(0, num_generations):\n",
    "    gen_to_vals[i] = []\n",
    "\n",
    "for i in range(0, 100):\n",
    "    print(i)\n",
    "    _, _, curr = run_experiment_unexplored_bins(\"data\", 0, 1, 0, 0)\n",
    "    for key in curr:\n",
    "        gen_to_vals[key].append(curr[key])"
   ]
  },
  {
   "cell_type": "code",
   "execution_count": null,
   "id": "004c7ffd",
   "metadata": {},
   "outputs": [],
   "source": [
    "publications_about_unexplored_bins_per_gen = {}\n",
    "for key in gen_to_vals:\n",
    "    publications_about_unexplored_bins_per_gen[key] = [sum(gen_to_vals[key]) / len(gen_to_vals[key]), stats.sem(gen_to_vals[key])]"
   ]
  },
  {
   "cell_type": "code",
   "execution_count": null,
   "id": "fcd933a0",
   "metadata": {},
   "outputs": [],
   "source": [
    "gen_to_vals_surprise = {}\n",
    "for i in range(0, num_generations):\n",
    "    gen_to_vals_surprise[i] = []\n",
    "\n",
    "for i in range(0, 100):\n",
    "    print(i)\n",
    "    _, _, curr = run_experiment_unexplored_bins(\"data\", 0, 0, 1, 0)\n",
    "    for key in curr:\n",
    "        gen_to_vals_surprise[key].append(curr[key])"
   ]
  },
  {
   "cell_type": "code",
   "execution_count": null,
   "id": "8e9c3d07",
   "metadata": {},
   "outputs": [],
   "source": [
    "publications_about_unexplored_bins_per_gen_surprise = {}\n",
    "for key in gen_to_vals_surprise:\n",
    "    publications_about_unexplored_bins_per_gen_surprise[key] = [sum(gen_to_vals_surprise[key]) / len(gen_to_vals_surprise[key]), stats.sem(gen_to_vals_surprise[key])]"
   ]
  },
  {
   "cell_type": "code",
   "execution_count": null,
   "id": "cfc47993",
   "metadata": {},
   "outputs": [],
   "source": [
    "gen_to_vals_positive = {}\n",
    "for i in range(0, num_generations):\n",
    "    gen_to_vals_positive[i] = []\n",
    "\n",
    "for i in range(0, 100):\n",
    "    print(i)\n",
    "    _, _, curr = run_experiment_unexplored_bins(\"data\", 0, 0, 0, 1)\n",
    "    for key in curr:\n",
    "        gen_to_vals_positive[key].append(curr[key])"
   ]
  },
  {
   "cell_type": "code",
   "execution_count": null,
   "id": "65ebc874",
   "metadata": {},
   "outputs": [],
   "source": [
    "publications_about_unexplored_bins_per_gen_positive = {}\n",
    "for key in gen_to_vals_positive:\n",
    "    publications_about_unexplored_bins_per_gen_positive[key] = [sum(gen_to_vals_positive[key]) / len(gen_to_vals_positive[key]), stats.sem(gen_to_vals_positive[key])]"
   ]
  },
  {
   "cell_type": "code",
   "execution_count": null,
   "id": "418b55bf",
   "metadata": {},
   "outputs": [],
   "source": [
    "x = []\n",
    "\n",
    "for gen_no in publications_about_unexplored_bins_per_gen:\n",
    "    x.append(gen_no)\n",
    "\n",
    "\n",
    "y = []\n",
    "y_surprise = []\n",
    "y_positive = []\n",
    "for gen_no in publications_about_unexplored_bins_per_gen:\n",
    "    y.append(publications_about_unexplored_bins_per_gen[gen_no][0])\n",
    "    y_surprise.append(publications_about_unexplored_bins_per_gen_surprise[gen_no][0])\n",
    "    y_positive.append(publications_about_unexplored_bins_per_gen_positive[gen_no][0])\n",
    "        \n",
    "# plt.plot(x, y, label=f\"Priority to Well-Supported Results\", color=\"green\")\n",
    "# plt.errorbar(x, y, yerr=publications_about_unexplored_bins_per_gen[gen_no][1], fmt='-o', capsize=5, color=\"green\")\n",
    "plt.plot(x, y_surprise, label=f\"Priority to Surprising Results\", color=\"orange\")\n",
    "plt.errorbar(x, y_surprise, yerr=publications_about_unexplored_bins_per_gen_surprise[gen_no][1], fmt='-o', capsize=5, color=\"orange\")\n",
    "plt.plot(x, y_positive, label=f\"Priority to Positive Results\", color=\"blue\")\n",
    "plt.errorbar(x, y_positive, yerr=publications_about_unexplored_bins_per_gen_positive[gen_no][1], fmt='-o', capsize=5, color=\"blue\")\n",
    "\n",
    "\n",
    "plt.xlabel('Generation')\n",
    "plt.ylabel('Average Number of New Arms Explored')\n",
    "plt.title('The Exploration of Unexplored Arms')\n",
    "\n",
    "plt.legend(loc='upper right', bbox_to_anchor=(1.5, 1.0))\n",
    "\n",
    "plt.grid(True)\n",
    "\n",
    "plt.savefig('graphics/exploration_of_unexplored_15_gens_typo_fix_ob.pdf', format='pdf', bbox_inches='tight')\n",
    "plt.show()"
   ]
  },
  {
   "cell_type": "code",
   "execution_count": null,
   "id": "604ec13c",
   "metadata": {},
   "outputs": [],
   "source": []
  },
  {
   "cell_type": "code",
   "execution_count": null,
   "id": "6e9f71bd",
   "metadata": {},
   "outputs": [],
   "source": []
  },
  {
   "cell_type": "code",
   "execution_count": null,
   "id": "640183f1",
   "metadata": {},
   "outputs": [],
   "source": []
  },
  {
   "cell_type": "code",
   "execution_count": null,
   "id": "40a18c2b",
   "metadata": {},
   "outputs": [],
   "source": []
  },
  {
   "cell_type": "code",
   "execution_count": null,
   "id": "9b1be37f",
   "metadata": {},
   "outputs": [],
   "source": []
  }
 ],
 "metadata": {
  "kernelspec": {
   "display_name": "Python 3 (ipykernel)",
   "language": "python",
   "name": "python3"
  },
  "language_info": {
   "codemirror_mode": {
    "name": "ipython",
    "version": 3
   },
   "file_extension": ".py",
   "mimetype": "text/x-python",
   "name": "python",
   "nbconvert_exporter": "python",
   "pygments_lexer": "ipython3",
   "version": "3.8.8"
  }
 },
 "nbformat": 4,
 "nbformat_minor": 5
}
