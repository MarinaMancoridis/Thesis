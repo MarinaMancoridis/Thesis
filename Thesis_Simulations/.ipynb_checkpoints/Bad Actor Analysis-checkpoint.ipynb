{
 "cells": [
  {
   "cell_type": "markdown",
   "id": "821bc142",
   "metadata": {},
   "source": [
    "Writing Notes\n",
    "1. sampling is the same\n",
    "2. bin choice is the same\n",
    "3. only difference is reporting: increases positive findings by 50% and decreases negative ones by 50%. this is meant to mimic selectivity in what you report that is an exaggeration of your findings but not a complete fabrication. overreport the number of '1's and underreport the number of '0's by a rate of 50%."
   ]
  },
  {
   "cell_type": "code",
   "execution_count": 1,
   "id": "ff2590d1",
   "metadata": {},
   "outputs": [],
   "source": [
    "import pandas as pd\n",
    "import matplotlib.pylab as plt\n",
    "import numpy as np\n",
    "import scipy\n",
    "from scipy.stats import beta, binom, entropy\n",
    "import random\n",
    "import json\n",
    "import copy\n",
    "import math\n",
    "import pickle\n",
    "import statistics\n",
    "\n",
    "# my modules\n",
    "import scientist\n",
    "import scientist_bad_agents\n",
    "import evaluation\n",
    "import helper\n",
    "import settings\n",
    "import publisher\n",
    "\n",
    "# global variables\n",
    "num_bins = 30\n",
    "num_draws = 10\n",
    "num_participants = 10\n",
    "num_generations = 100\n",
    "\n",
    "bins_to_probs = {}\n",
    "for i in range(0, num_bins):\n",
    "    bins_to_probs[i] = np.random.uniform(low=0.0, high=1.0)"
   ]
  },
  {
   "cell_type": "code",
   "execution_count": 2,
   "id": "c1938d94",
   "metadata": {},
   "outputs": [],
   "source": [
    "def make_participants_bad_actors(setting, alpha_value, percent):\n",
    "    participants = []\n",
    "\n",
    "    for i in range (0, round((1 - (percent/100.0)) * num_participants)):\n",
    "        if setting == \"rate\":\n",
    "            report_set = settings.ReportingSetting(\"rate\")\n",
    "        elif setting == \"data\":\n",
    "            report_set = settings.ReportingSetting(\"data\")\n",
    "        elif setting == \"subset\":\n",
    "            report_set = settings.ReportingSetting(\"subset\")\n",
    "\n",
    "        # make participant\n",
    "        participant = scientist_bad_agents.Participant(alpha=alpha_value, reporting_setting=report_set, bad_agent = False)\n",
    "                        \n",
    "        participants.append(participant)\n",
    "        \n",
    "    for i in range (0, round((percent/100.0) * num_participants)):\n",
    "        if setting == \"rate\":\n",
    "            report_set = settings.ReportingSetting(\"rate\")\n",
    "        elif setting == \"data\":\n",
    "            report_set = settings.ReportingSetting(\"data\")\n",
    "        elif setting == \"subset\":\n",
    "            report_set = settings.ReportingSetting(\"subset\")\n",
    "\n",
    "        # make participant\n",
    "        participant = scientist_bad_agents.Participant(alpha=alpha_value, reporting_setting=report_set, bad_agent = True)\n",
    "                        \n",
    "        participants.append(participant)\n",
    "\n",
    "    return(participants)"
   ]
  },
  {
   "cell_type": "code",
   "execution_count": 3,
   "id": "c024dc11",
   "metadata": {},
   "outputs": [],
   "source": [
    "def run_experiment_gen_info_bad_actors(setting, alpha_value, rel_pl_data_val, rel_pl_surprise_val, rel_pl_bias_val, percent):\n",
    "    scientific_record = {}\n",
    "    for bin_num in range(0, num_bins):\n",
    "        scientific_record[bin_num] = {} \n",
    "        scientific_record[bin_num][0] = 1\n",
    "        scientific_record[bin_num][1] = 1\n",
    "    \n",
    "    kl_per_gen = {}\n",
    "    \n",
    "    for generation in range(0, num_generations): \n",
    "        # each generation gets an entirely new set of participants\n",
    "        participants = make_participants_bad_actors(setting, alpha_value, percent)\n",
    "\n",
    "        # scientists explore and submit reports\n",
    "        for participant in participants:\n",
    "            for i in range(0, num_draws):\n",
    "                bin_number, value = participant.sample(scientific_record, num_bins, bins_to_probs)\n",
    "\n",
    "            bin_choice = participant.choose_bin(scientific_record, num_bins, num_draws)\n",
    "            participant.report(num_bins, num_draws)\n",
    "            \n",
    "        # the peer review board selects reports for publication and returns the updated scientific record\n",
    "        scientific_record = publisher.peer_review(participants, scientific_record, rel_pl_data_val, rel_pl_surprise_val, rel_pl_bias_val, num_draws)\n",
    "        \n",
    "        kl_per_gen[generation] = evaluation.total_entropy_score(scientific_record, bins_to_probs)\n",
    "    \n",
    "    return(evaluation.arm_parameter_score(scientific_record, bins_to_probs), evaluation.total_entropy_score(scientific_record, bins_to_probs), kl_per_gen)"
   ]
  },
  {
   "cell_type": "code",
   "execution_count": 4,
   "id": "62116178",
   "metadata": {},
   "outputs": [],
   "source": [
    "def run_internal_experiment():\n",
    "    percent_bad = [0, 10, 20, 30, 40, 50]\n",
    "    percent_bad_to_kl_gens = {}\n",
    "    \n",
    "    for percent in percent_bad:\n",
    "        print(percent)\n",
    "        \n",
    "        average_KL_per_generation = {}\n",
    "        for i in range(0, num_generations):\n",
    "            average_KL_per_generation[i] = 0\n",
    "\n",
    "        for i in range(0, 10):\n",
    "            print(f\"   {i}\")\n",
    "            arm_score, entropy_score, kl_per_gen = run_experiment_gen_info_bad_actors(\"data\", 0, 1, 1, 0, percent)\n",
    "            for gen_no in kl_per_gen:\n",
    "                average_KL_per_generation[gen_no] += kl_per_gen[gen_no]\n",
    "\n",
    "        for key in average_KL_per_generation:\n",
    "            average_KL_per_generation[key] /= 10\n",
    "            \n",
    "        percent_bad_to_kl_gens[percent] = average_KL_per_generation\n",
    "\n",
    "    # save the results\n",
    "    pickle.dump(\n",
    "        percent_bad_to_kl_gens,\n",
    "        open(\"/Users/marinamancoridis/Thesis/Thesis_Simulations/percent_bad_to_kl_gens_25.p\", \"wb\")\n",
    "    )"
   ]
  },
  {
   "cell_type": "code",
   "execution_count": null,
   "id": "631b91c3",
   "metadata": {},
   "outputs": [
    {
     "name": "stdout",
     "output_type": "stream",
     "text": [
      "0\n",
      "   0\n",
      "   1\n",
      "   2\n",
      "   3\n"
     ]
    }
   ],
   "source": [
    "run_internal_experiment()"
   ]
  },
  {
   "cell_type": "code",
   "execution_count": null,
   "id": "a5931c5d",
   "metadata": {},
   "outputs": [],
   "source": []
  },
  {
   "cell_type": "code",
   "execution_count": null,
   "id": "5df981a9",
   "metadata": {},
   "outputs": [],
   "source": []
  }
 ],
 "metadata": {
  "kernelspec": {
   "display_name": "Python 3 (ipykernel)",
   "language": "python",
   "name": "python3"
  },
  "language_info": {
   "codemirror_mode": {
    "name": "ipython",
    "version": 3
   },
   "file_extension": ".py",
   "mimetype": "text/x-python",
   "name": "python",
   "nbconvert_exporter": "python",
   "pygments_lexer": "ipython3",
   "version": "3.8.8"
  }
 },
 "nbformat": 4,
 "nbformat_minor": 5
}
