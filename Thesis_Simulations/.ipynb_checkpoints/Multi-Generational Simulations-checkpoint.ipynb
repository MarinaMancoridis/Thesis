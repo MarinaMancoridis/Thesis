{
 "cells": [
  {
   "cell_type": "markdown",
   "id": "3380474b",
   "metadata": {},
   "source": [
    "# Introduction\n",
    "This notebook explores how false publications in science can emerge as the product of a multi-generational simulation of science."
   ]
  },
  {
   "cell_type": "code",
   "execution_count": 9,
   "id": "4318b15f",
   "metadata": {},
   "outputs": [],
   "source": [
    "import seaborn as sns\n",
    "import pandas as pd\n",
    "import matplotlib.pylab as plt\n",
    "import numpy as np\n",
    "from scipy.stats import beta, binom\n",
    "import random\n",
    "import json\n",
    "\n",
    "# simulation-wide global variables\n",
    "num_bins = 3\n",
    "num_draws = 10\n",
    "num_participants = 100\n",
    "num_generations = 3"
   ]
  },
  {
   "cell_type": "markdown",
   "id": "187234b4",
   "metadata": {},
   "source": [
    "##  Reporting Settings\n",
    "A participant is in one of three settings for how they are allowed to report their data\n",
    "1. **Rate**: Pick a single bin and report the survival rate of its pill contents.\n",
    "2. **Data**: Pick a single bin and report the total number of rats that died and rats that stayed alive\n",
    "3. **Subset**: Pick a single bin and choose a set of data to publish"
   ]
  },
  {
   "cell_type": "code",
   "execution_count": 18,
   "id": "e6ac2994",
   "metadata": {},
   "outputs": [],
   "source": [
    "class ReportingSetting:\n",
    "    def __init__(self, name):\n",
    "        if name not in {\"rate\", \"data\", \"subset\"}:\n",
    "            raise ValueError(\"Improper setting name\")\n",
    "        self.name = name"
   ]
  },
  {
   "cell_type": "markdown",
   "id": "284de802",
   "metadata": {},
   "source": [
    "## Strategy to sample a bin\n",
    "To gather data, participants make a soft-selection over the options that they expect to yield the highest KL divergence from the scientific record."
   ]
  },
  {
   "cell_type": "code",
   "execution_count": 11,
   "id": "51456645",
   "metadata": {},
   "outputs": [],
   "source": [
    "def draw(draw_number, bin_sample_order, values_sampled):\n",
    "    bin_number = 0\n",
    "    value = 0\n",
    "    \n",
    "    return bin_number, value"
   ]
  },
  {
   "cell_type": "markdown",
   "id": "cb34e6c7",
   "metadata": {},
   "source": [
    "## Strategy to select a bin\n",
    "Participants use the following strategy to select a bin."
   ]
  },
  {
   "cell_type": "code",
   "execution_count": 19,
   "id": "b2d89488",
   "metadata": {},
   "outputs": [],
   "source": [
    "def choose_bin(bin_sample_order, values_sampled):\n",
    "    bin_choice = 0\n",
    "    \n",
    "    return bin_choice"
   ]
  },
  {
   "cell_type": "markdown",
   "id": "87f2e61b",
   "metadata": {},
   "source": [
    "## Strategy to exaggerate findings\n",
    "We hypothesize that the participants will report their results with some degree $\\alpha$ of exaggeration. When $\\alpha = 0$, this reduces to the strategy of reporting honest, unmanipulated results. When $\\alpha = 1$, this reduces to the strategy of reporting maximum values."
   ]
  },
  {
   "cell_type": "code",
   "execution_count": 21,
   "id": "f9280bba",
   "metadata": {},
   "outputs": [],
   "source": [
    "class ReportingStrategy():\n",
    "    def __init__(self):\n",
    "        pass\n",
    "    \n",
    "    def report(self, reporting_setting, alpha, bin_history):\n",
    "        num_zeros = bin_history.count(0)\n",
    "        num_ones = bin_history.count(1)\n",
    "        \n",
    "        if alpha < 0 or alpha > 1:\n",
    "            raise ValueError(\"Alpha must be between 0 and 1\")\n",
    "        \n",
    "        # overreport by a proportion of alpha of the remaining rate to get to a value of 1\n",
    "        if reporting_setting == \"rate\":\n",
    "            if num_ones + num_zeros == 0:\n",
    "                accurate_rate = 0.5\n",
    "            else:\n",
    "                accurate_rate = num_ones / (num_ones + num_zeros)\n",
    "            return(accurate_rate + alpha * (1 - accurate_rate))\n",
    "            \n",
    "        # overreport the number of '1's and underreport the number of '0's by a rate of alpha \n",
    "        elif reporting_setting == \"data\":\n",
    "            num_reported_zeros = round(num_zeros * (1 - alpha))\n",
    "            num_reported_ones = round(num_ones * (1 + alpha))\n",
    "            return({\"0\": num_reported_zeros, \"1\": num_reported_ones})\n",
    "        \n",
    "        # remove (100 * alpha)% of the '0' results\n",
    "        elif reporting_setting == \"subset\":\n",
    "            num_reported_zeros = round(num_zeros * (1 - alpha))\n",
    "            return({\"0\": num_reported_zeros, \"1\": num_ones})"
   ]
  },
  {
   "cell_type": "markdown",
   "id": "579efe16",
   "metadata": {},
   "source": [
    "## Participants\n",
    "Each participant has a personal records of draws and results."
   ]
  },
  {
   "cell_type": "code",
   "execution_count": 13,
   "id": "aeee794a",
   "metadata": {},
   "outputs": [],
   "source": [
    "class Participant:\n",
    "    next_id = 1  # Class variable to keep track of the next available ID\n",
    "\n",
    "    def __init__(self, strategy_report, reporting_setting):        \n",
    "        self.id = Participant.next_id  # Assign a unique ID to the participant\n",
    "        Participant.next_id += 1  # Update the next available ID for the next participant\n",
    "\n",
    "        self.strategy_report = strategy_report                               # how exaggerated the findings are\n",
    "        self.reporting_setting = reporting_setting                           # type of report they can make\n",
    "        self.bin_sample_order = []                                           # order of bins sampled\n",
    "        self.values_sampled = []                                             # values received across draws\n",
    "        self.bin_choice = -1                                                 # the bin chosen to be reported\n",
    "        reported_results = None                                              # the results reported\n",
    "        \n",
    "    def sample(self):\n",
    "        sample_number = len(self.bin_sample_order)\n",
    "        bin_number, value = draw(len(self.values_sampled), self.bin_sample_order, self.values_sampled)\n",
    "        self.bin_sample_order.append(bin_number)\n",
    "        self.values_sampled.append(value)\n",
    "        \n",
    "    def choose_bin(self, bin_sample_order, values_sampled):\n",
    "        self.bin_choice = choose_bin(self.bin_sample_order, self.values_sampled)\n",
    "        \n",
    "    def report(self, alpha):\n",
    "        history = get_full_history(self.bin_sample_order, self.values_sampled)\n",
    "        bin_history = history[num_draws - 1][self.bin_choice]\n",
    "        self.reported_results = self.strategy_report.report(self.reporting_setting.name, alpha, bin_history)"
   ]
  },
  {
   "cell_type": "code",
   "execution_count": 14,
   "id": "ae2607e6",
   "metadata": {},
   "outputs": [],
   "source": [
    "# returns a data structure that shows, on each draw, the values seen in each bin at that point\n",
    "def get_full_history(bin_sample_order, values_sampled):\n",
    "    history = {draw_number: {bin_number: [] for bin_number in range(num_bins)} for draw_number in range(num_draws)}\n",
    "\n",
    "    for draw in range(len(bin_sample_order)):\n",
    "        if draw == 0:\n",
    "            history[draw][bin_sample_order[draw]].append(values_sampled[draw])\n",
    "        else:\n",
    "            prev_history = history[draw - 1].copy()\n",
    "            for bin_num in prev_history:\n",
    "                if bin_num == bin_sample_order[draw]:\n",
    "                    history[draw][bin_num] = prev_history[bin_num] + [values_sampled[draw]]\n",
    "                else:\n",
    "                    history[draw][bin_num] = prev_history[bin_num][:]\n",
    "    return history"
   ]
  },
  {
   "cell_type": "markdown",
   "id": "da10fb6e",
   "metadata": {},
   "source": [
    "## Initializing collection of empty participants"
   ]
  },
  {
   "cell_type": "code",
   "execution_count": 22,
   "id": "5cebab33",
   "metadata": {},
   "outputs": [],
   "source": [
    "def make_participants(reporting_strategy, setting, alpha_value):\n",
    "    participants = []\n",
    "\n",
    "    # make all 100 participants\n",
    "    for i in range (0, num_participants):\n",
    "        # initialize reporting strategy\n",
    "        if reporting_strategy == \"rs\":\n",
    "            strat_report = ReportingStrategy()\n",
    "\n",
    "        # initialize setting\n",
    "        if setting == \"rate\":\n",
    "            report_set = ReportingSetting(\"rate\")\n",
    "        elif setting == \"data\":\n",
    "            report_set = ReportingSetting(\"data\")\n",
    "        elif setting == \"subset\":\n",
    "            report_set = ReportingSetting(\"subset\")\n",
    "\n",
    "        # make participant\n",
    "        participant = Participant(strategy_report=strat_report, reporting_setting=report_set)\n",
    "                        \n",
    "        participants.append(participant)\n",
    "\n",
    "    return(participants)"
   ]
  },
  {
   "cell_type": "markdown",
   "id": "faf5e7b0",
   "metadata": {},
   "source": [
    "## Defining the peer review layer\n",
    "This layer takes in reports from scientists, selects reports for publication, and thereby updates the scientific record. The scientific record consists of the number of positive and negative draws associated with each bin. We do this because we assume that published data is given fully (not just publishing some sort of aggregation of the submitted results)."
   ]
  },
  {
   "cell_type": "code",
   "execution_count": 23,
   "id": "a88dd6d7",
   "metadata": {},
   "outputs": [],
   "source": [
    "# TODO: update the published scientific record\n",
    "def peer_review(participants, scientific_record):    \n",
    "    rates = [participant.reported_results for participant in participants if participant.reporting_setting.name == \"rate\"]\n",
    "\n",
    "    # if participants were only allowed to report a single rate as their finding\n",
    "    if rates:\n",
    "        final_reports = {}\n",
    "        percentiles = np.percentile(rates, np.arange(0, 101, 1))\n",
    "        \n",
    "        for participant in participants:\n",
    "            if participant.reporting_setting.name == \"rate\":\n",
    "                reported_rate = participant.reported_results\n",
    "                percentile_rank = np.searchsorted(percentiles, reported_rate) / len(percentiles) * 100\n",
    "                \n",
    "                final_reports[participant.id] = {\n",
    "                    \"reportedRate\": reported_rate,\n",
    "                    \"score\": percentile_rank / 10\n",
    "                }\n",
    "                \n",
    "        for participant in participants:\n",
    "            if final_reports[participant.id][\"reportedRate\"] > 0.5:\n",
    "                oldScore = final_reports[participant.id][\"score\"]\n",
    "                newScore = oldScore + (10 - oldScore) * 0.05\n",
    "                final_reports[participant.id][\"score\"] = newScore\n",
    "            else:\n",
    "                oldScore = final_reports[participant.id][\"score\"]\n",
    "                newScore = 0.95 * oldScore\n",
    "                final_reports[participant.id][\"score\"] = newScore\n",
    "                \n",
    "                \n",
    "        # Sort participants by score and select the top 20\n",
    "        sorted_participants = sorted(final_reports.items(), key=lambda x: x[1][\"score\"], reverse=True)\n",
    "        top_20_participants = sorted_participants[:20]\n",
    "\n",
    "        # TODO: change this to just the reported values...\n",
    "        # Calculate the percentage difference for each selected participant\n",
    "        percentage_differences = [abs(participant[1][\"reportedRate\"] - 0.5) / 0.5 * 100\n",
    "                                  for participant in top_20_participants]\n",
    "\n",
    "        # Find the average percentage difference\n",
    "        average_percentage_difference = round(np.mean(percentage_differences))\n",
    "\n",
    "        return(average_percentage_difference)\n",
    "    \n",
    "    # if there is data associated with each participant (subset or full reporting)\n",
    "    else:\n",
    "        final_reports = {}\n",
    "        reported_sums = [participant.reported_results['0'] + participant.reported_results['1']\n",
    "                         for participant in participants]\n",
    "\n",
    "        percentiles = np.percentile(reported_sums, np.arange(0, 101, 1))\n",
    "\n",
    "        for participant in participants:\n",
    "            reported_sum = participant.reported_results['0'] + participant.reported_results['1']\n",
    "            percentile_rank = np.searchsorted(percentiles, reported_sum) / len(percentiles) * 100\n",
    "            \n",
    "            reported_rate = 0\n",
    "            if participant.reported_results['1'] + participant.reported_results['0'] != 0:\n",
    "                reported_rate = participant.reported_results['1'] / (participant.reported_results['1']  + participant.reported_results['0'])\n",
    "            \n",
    "            score = percentile_rank / 10\n",
    "            final_reports[participant.id] = {\n",
    "                    \"reportedSum\": reported_sum,\n",
    "                    \"reportedRate\": reported_rate,\n",
    "                    \"score\": score\n",
    "            }\n",
    "            \n",
    "        # add surprise factor and publishing bias\n",
    "        for participant in participants:\n",
    "            reported_rate = final_reports[participant.id][\"reportedRate\"]\n",
    "            oldScore = final_reports[participant.id][\"score\"]\n",
    "            \n",
    "            newScore = oldScore + (10 - oldScore)*(abs(reported_rate - 0.5)) # surprise factor\n",
    "            \n",
    "            # publishing bias\n",
    "            if reported_rate < 0.5:\n",
    "                newScore = 0.95 * oldScore\n",
    "            else:\n",
    "                newScore = oldScore + (10 - oldScore) * 0.05\n",
    "            \n",
    "            final_reports[participant.id][\"score\"] = newScore\n",
    "            \n",
    "        # Sort participants by score and select the top 20\n",
    "        sorted_participants = sorted(final_reports.items(), key=lambda x: x[1][\"score\"], reverse=True)\n",
    "        top_20_participants = sorted_participants[:20]\n",
    "\n",
    "        # TODO: change this to just the reported values\n",
    "        # Calculate the percentage difference for each selected participant\n",
    "        percentage_differences = [abs(participant[1][\"reportedRate\"] - 0.5) / 0.5 * 100\n",
    "                                  for participant in top_20_participants]\n",
    "\n",
    "        # Find the average percentage difference\n",
    "        average_percentage_difference = round(np.mean(percentage_differences))\n",
    "\n",
    "        return(average_percentage_difference)"
   ]
  },
  {
   "cell_type": "markdown",
   "id": "5d706905",
   "metadata": {},
   "source": [
    "## Run experiments\n",
    "\n",
    "The multi-generational experiment is run, given reporting setting and exaggeration values."
   ]
  },
  {
   "cell_type": "code",
   "execution_count": null,
   "id": "5687cfeb",
   "metadata": {},
   "outputs": [],
   "source": [
    "def run_experiment(reporting_strategy, setting, alpha_value):\n",
    "    # each experiment starts with a blank cannon\n",
    "    scientific_record = {}\n",
    "    for bin_num in range(0, num_bins):\n",
    "        scientific_record[bin_num] = {}\n",
    "    \n",
    "    participants = make_participants(reporting_strategy, setting, alpha_value)\n",
    "    \n",
    "    for generation in range(0, num_generations):\n",
    "        # scientists explore and submit reports\n",
    "        for participant in participants:\n",
    "            # sample\n",
    "            for i in range(0, num_draws):\n",
    "                participant.sample()\n",
    "\n",
    "            # choose the bin\n",
    "            participant.choose_bin(participant.bin_sample_order, participant.values_sampled)\n",
    "\n",
    "            # specify alpha value\n",
    "            participant.report(alpha_value)\n",
    "            \n",
    "        # the peer review board selects reports for publication and updates the scientific record\n",
    "        peer_review(participants, scientific_record)"
   ]
  },
  {
   "cell_type": "code",
   "execution_count": null,
   "id": "652c71e3",
   "metadata": {},
   "outputs": [],
   "source": [
    "reporting_strategies = [\"rs\"]\n",
    "reporting_settings = [\"rate\", \"data\", \"subset\"]\n",
    "alpha_values = [0, 0.25, 0.5, 0.75, 1]\n",
    "\n",
    "results = [] # TODO: fix this into whatever you want\n",
    "\n",
    "for reporting_strategy in reporting_strategies:\n",
    "    for reporting_setting in reporting_settings:\n",
    "        for alpha_value in alpha_values:\n",
    "            result = run_experiment(reporting_strategy, setting, alpha_value)\n",
    "            results.append(result)\n",
    "            \n",
    "            # TODO: save the results"
   ]
  },
  {
   "cell_type": "code",
   "execution_count": null,
   "id": "557cced4",
   "metadata": {},
   "outputs": [],
   "source": []
  },
  {
   "cell_type": "code",
   "execution_count": null,
   "id": "ad1e302b",
   "metadata": {},
   "outputs": [],
   "source": []
  },
  {
   "cell_type": "code",
   "execution_count": null,
   "id": "75ed0c75",
   "metadata": {},
   "outputs": [],
   "source": []
  },
  {
   "cell_type": "code",
   "execution_count": null,
   "id": "a7eaaecb",
   "metadata": {},
   "outputs": [],
   "source": []
  },
  {
   "cell_type": "code",
   "execution_count": null,
   "id": "eaaaa059",
   "metadata": {},
   "outputs": [],
   "source": []
  },
  {
   "cell_type": "code",
   "execution_count": null,
   "id": "a4928f5b",
   "metadata": {},
   "outputs": [],
   "source": []
  },
  {
   "cell_type": "markdown",
   "id": "612ecc70",
   "metadata": {},
   "source": [
    "## Analyze the results"
   ]
  },
  {
   "cell_type": "code",
   "execution_count": null,
   "id": "d1243052",
   "metadata": {},
   "outputs": [],
   "source": [
    "# Initialize the dictionary to store mean percent errors\n",
    "mean_percent_errors_dict = {}\n",
    "\n",
    "# Number of runs for each key\n",
    "num_runs = 10\n",
    "\n",
    "for gathering_strategy in gathering_strategies:\n",
    "    for bin_choosing_strategy in bin_choosing_strategies:\n",
    "        for reporting_strategy in reporting_strategies:\n",
    "            for setting in reporting_setting:\n",
    "                for alpha_value in alpha_values:\n",
    "                    # Initialize a list to store MPE for each run\n",
    "                    mpe_list = []\n",
    "\n",
    "                    for _ in range(num_runs):\n",
    "                        participants = make_participants(gathering_strategy, bin_choosing_strategy, reporting_strategy, setting, alpha_value)\n",
    "                        mean_percent_error = peer_review(participants)\n",
    "                        mpe_list.append(mean_percent_error)\n",
    "\n",
    "                    # Calculate the average MPE\n",
    "                    avg_mpe = np.mean(mpe_list)\n",
    "\n",
    "                    # Create a key based on the variable names\n",
    "                    key = (gathering_strategy, bin_choosing_strategy, reporting_strategy, setting, alpha_value)\n",
    "\n",
    "                    # Store the average MPE in the dictionary\n",
    "                    mean_percent_errors_dict[key] = avg_mpe\n",
    "\n",
    "print(mean_percent_errors_dict)"
   ]
  },
  {
   "cell_type": "code",
   "execution_count": null,
   "id": "3c8c7830",
   "metadata": {},
   "outputs": [],
   "source": [
    "# Convert tuple keys to strings\n",
    "string_keys_dict = {str(key): value for key, value in mean_percent_errors_dict.items()}\n",
    "\n",
    "# Specify the file path to save the JSON file\n",
    "json_file_path = 'mean_percent_errors.json'\n",
    "\n",
    "# Save the dictionary with string keys to a JSON file\n",
    "with open(json_file_path, 'w') as json_file:\n",
    "    json.dump(string_keys_dict, json_file)\n",
    "\n",
    "print(f\"Mean percent errors saved to {json_file_path}\")"
   ]
  },
  {
   "cell_type": "markdown",
   "id": "86760f6d",
   "metadata": {},
   "source": [
    "## Find best 5 and worst 5 settings"
   ]
  },
  {
   "cell_type": "code",
   "execution_count": null,
   "id": "98d4f9bf",
   "metadata": {},
   "outputs": [],
   "source": [
    "# Convert tuple keys to strings\n",
    "string_keys_dict = {str(key): value for key, value in mean_percent_errors_dict.items()}\n",
    "\n",
    "# Sort the dictionary by values\n",
    "sorted_dict = dict(sorted(string_keys_dict.items(), key=lambda item: item[1]))\n",
    "\n",
    "# Print the best five settings with their MPE\n",
    "print(\"Best 15 Settings:\")\n",
    "for key in list(sorted_dict)[:15]:\n",
    "    setting_tuple = eval(key)  # Convert the string back to a tuple\n",
    "    mpe = sorted_dict[key]\n",
    "    print(f\"{setting_tuple}: {mpe}\")\n",
    "\n",
    "# Print the worst five settings with their MPE\n",
    "print(\"\\nWorst 15 Settings:\")\n",
    "for key in list(sorted_dict)[-15:]:\n",
    "    setting_tuple = eval(key)  # Convert the string back to a tuple\n",
    "    mpe = sorted_dict[key]\n",
    "    print(f\"{setting_tuple}: {mpe}\")"
   ]
  },
  {
   "cell_type": "code",
   "execution_count": 24,
   "id": "210ef3d5",
   "metadata": {},
   "outputs": [
    {
     "ename": "NameError",
     "evalue": "name 'mean_percent_errors_dict' is not defined",
     "output_type": "error",
     "traceback": [
      "\u001b[0;31m---------------------------------------------------------------------------\u001b[0m",
      "\u001b[0;31mNameError\u001b[0m                                 Traceback (most recent call last)",
      "Cell \u001b[0;32mIn [24], line 2\u001b[0m\n\u001b[1;32m      1\u001b[0m \u001b[38;5;66;03m# Convert tuple keys to strings\u001b[39;00m\n\u001b[0;32m----> 2\u001b[0m string_keys_dict \u001b[38;5;241m=\u001b[39m {\u001b[38;5;28mstr\u001b[39m(key): value \u001b[38;5;28;01mfor\u001b[39;00m key, value \u001b[38;5;129;01min\u001b[39;00m \u001b[43mmean_percent_errors_dict\u001b[49m\u001b[38;5;241m.\u001b[39mitems()}\n\u001b[1;32m      4\u001b[0m \u001b[38;5;66;03m# Filter out settings where alpha is equal to 1\u001b[39;00m\n\u001b[1;32m      5\u001b[0m filtered_dict \u001b[38;5;241m=\u001b[39m {key: value \u001b[38;5;28;01mfor\u001b[39;00m key, value \u001b[38;5;129;01min\u001b[39;00m string_keys_dict\u001b[38;5;241m.\u001b[39mitems() \u001b[38;5;28;01mif\u001b[39;00m \u001b[38;5;28meval\u001b[39m(key)[\u001b[38;5;241m-\u001b[39m\u001b[38;5;241m1\u001b[39m] \u001b[38;5;241m!=\u001b[39m \u001b[38;5;241m1\u001b[39m}\n",
      "\u001b[0;31mNameError\u001b[0m: name 'mean_percent_errors_dict' is not defined"
     ]
    }
   ],
   "source": [
    "# Convert tuple keys to strings\n",
    "string_keys_dict = {str(key): value for key, value in mean_percent_errors_dict.items()}\n",
    "\n",
    "# Filter out settings where alpha is equal to 1\n",
    "filtered_dict = {key: value for key, value in string_keys_dict.items() if eval(key)[-1] != 1}\n",
    "\n",
    "# Sort the filtered dictionary by values in descending order\n",
    "sorted_filtered_dict = dict(sorted(filtered_dict.items(), key=lambda item: item[1], reverse=True))\n",
    "r\n",
    "# Print the worst settings with alpha not equal to 1\n",
    "print(\"Worst Settings (alpha not equal to 1) in Order:\")\n",
    "for key, value in sorted_filtered_dict.items():\n",
    "    setting_tuple = eval(key)  # Convert the string back to a tuple\n",
    "    print(f\"{setting_tuple}: {value}\")"
   ]
  },
  {
   "cell_type": "code",
   "execution_count": null,
   "id": "ac86a042",
   "metadata": {},
   "outputs": [],
   "source": [
    "from collections import defaultdict\n",
    "\n",
    "# Convert tuple keys to strings\n",
    "string_keys_dict = {str(key): value for key, value in mean_percent_errors_dict.items()}\n",
    "\n",
    "# Create a defaultdict to store MPE values for each unique setting component\n",
    "component_mpes = defaultdict(list)\n",
    "\n",
    "# Populate the defaultdict with MPE values\n",
    "for key, value in string_keys_dict.items():\n",
    "    setting_tuple = eval(key)\n",
    "    \n",
    "    # Iterate over all components in the setting tuple\n",
    "    for component in setting_tuple:\n",
    "        component_mpes[component].append(value)\n",
    "\n",
    "# Calculate average MPE for each unique setting component\n",
    "average_mpes = {component: np.mean(mpe_list) for component, mpe_list in component_mpes.items()}\n",
    "\n",
    "# Print the average MPE for each setting component\n",
    "print(\"Average MPE for Each Setting Component:\")\n",
    "for component, average_mpe in average_mpes.items():\n",
    "    print(f\"{component}: {average_mpe}\")"
   ]
  }
 ],
 "metadata": {
  "kernelspec": {
   "display_name": "Python 3 (ipykernel)",
   "language": "python",
   "name": "python3"
  },
  "language_info": {
   "codemirror_mode": {
    "name": "ipython",
    "version": 3
   },
   "file_extension": ".py",
   "mimetype": "text/x-python",
   "name": "python",
   "nbconvert_exporter": "python",
   "pygments_lexer": "ipython3",
   "version": "3.8.8"
  }
 },
 "nbformat": 4,
 "nbformat_minor": 5
}
