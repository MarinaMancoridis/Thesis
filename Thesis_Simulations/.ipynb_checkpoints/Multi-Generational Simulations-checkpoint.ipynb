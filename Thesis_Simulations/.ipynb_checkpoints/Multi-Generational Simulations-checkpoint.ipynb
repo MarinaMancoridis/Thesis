{
 "cells": [
  {
   "cell_type": "markdown",
   "id": "02c81c52",
   "metadata": {},
   "source": [
    "# Introduction\n",
    "This notebook explores how false publications in science can emerge as the product of a multi-generational simulation of science."
   ]
  },
  {
   "cell_type": "code",
   "execution_count": 35,
   "id": "b2f56db8",
   "metadata": {},
   "outputs": [],
   "source": [
    "import seaborn as sns\n",
    "import pandas as pd\n",
    "import matplotlib.pylab as plt\n",
    "import numpy as np\n",
    "from scipy.stats import beta, binom\n",
    "import random\n",
    "import json\n",
    "\n",
    "# global variables\n",
    "num_bins = 3\n",
    "num_draws = 10          # to be distributed amongst all of the bins\n",
    "num_participants = 1\n",
    "num_generations = 3"
   ]
  },
  {
   "cell_type": "markdown",
   "id": "0ee88978",
   "metadata": {},
   "source": [
    "##  Reporting Settings\n",
    "A participant is in one of three settings for how they are allowed to report their data\n",
    "1. **Rate**: Report bin success rate\n",
    "2. **Data**: Report full results of bin samples\n",
    "3. **Subset**: Report partial results of bin samples"
   ]
  },
  {
   "cell_type": "code",
   "execution_count": 36,
   "id": "9016bad9",
   "metadata": {},
   "outputs": [],
   "source": [
    "class ReportingSetting:\n",
    "    def __init__(self, name):\n",
    "        if name not in {\"rate\", \"data\", \"subset\"}:\n",
    "            raise ValueError(\"Improper setting name\")\n",
    "        self.name = name"
   ]
  },
  {
   "cell_type": "markdown",
   "id": "cb1be1ff",
   "metadata": {},
   "source": [
    "## Sample bins\n",
    "To gather data, scientists choose actions (draws from a given bin) that maximize their expected value of information."
   ]
  },
  {
   "cell_type": "code",
   "execution_count": 67,
   "id": "19accaa2",
   "metadata": {},
   "outputs": [],
   "source": [
    "def draw(draw_number, bin_sample_order, values_sampled):\n",
    "    bin_number = 0\n",
    "    value = 0\n",
    "    \n",
    "    return bin_number, value"
   ]
  },
  {
   "cell_type": "markdown",
   "id": "85f63398",
   "metadata": {},
   "source": [
    "## Choose a bin\n",
    "\n",
    "Participants select the bin whose results maximize the KL divergence between the prior and posterior distributions."
   ]
  },
  {
   "cell_type": "code",
   "execution_count": 68,
   "id": "1d695bd0",
   "metadata": {},
   "outputs": [],
   "source": [
    "def choose_bin(bin_sample_order, values_sampled):\n",
    "    bin_choice = 0\n",
    "    \n",
    "    return bin_choice"
   ]
  },
  {
   "cell_type": "markdown",
   "id": "146406d8",
   "metadata": {},
   "source": [
    "## Report findings\n",
    "\n",
    "Participants report their findings, exaggerating their results by some degree $\\alpha$. When $\\alpha = 0$, this reduces to the strategy of reporting honest, unmanipulated results. When $\\alpha = 1$, this reduces to the strategy of reporting maximum values."
   ]
  },
  {
   "cell_type": "code",
   "execution_count": 69,
   "id": "32398d59",
   "metadata": {},
   "outputs": [],
   "source": [
    "class ReportingStrategy():\n",
    "    def __init__(self):\n",
    "        pass\n",
    "    \n",
    "    def report(self, reporting_setting, alpha, bin_history):\n",
    "        num_zeros = bin_history.count(0)\n",
    "        num_ones = bin_history.count(1)\n",
    "        \n",
    "        if alpha < 0 or alpha > 1:\n",
    "            raise ValueError(\"Alpha must be between 0 and 1\")\n",
    "        \n",
    "        # overreport by a proportion of alpha of the remaining rate to get to a value of 1\n",
    "        if reporting_setting == \"rate\":\n",
    "            if num_ones + num_zeros == 0:\n",
    "                accurate_rate = 0.5\n",
    "            else:\n",
    "                accurate_rate = num_ones / (num_ones + num_zeros)\n",
    "            return(accurate_rate + alpha * (1 - accurate_rate))\n",
    "            \n",
    "        # overreport the number of '1's and underreport the number of '0's by a rate of alpha \n",
    "        elif reporting_setting == \"data\":\n",
    "            num_reported_zeros = round(num_zeros * (1 - alpha))\n",
    "            num_reported_ones = round(num_ones * (1 + alpha))\n",
    "            return({\"0\": num_reported_zeros, \"1\": num_reported_ones})\n",
    "        \n",
    "        # remove (100 * alpha)% of the '0' results\n",
    "        elif reporting_setting == \"subset\":\n",
    "            num_reported_zeros = round(num_zeros * (1 - alpha))\n",
    "            return({\"0\": num_reported_zeros, \"1\": num_ones})"
   ]
  },
  {
   "cell_type": "markdown",
   "id": "e174c30c",
   "metadata": {},
   "source": [
    "## Participants\n",
    "Each participant has a personal records of draws and results."
   ]
  },
  {
   "cell_type": "code",
   "execution_count": 70,
   "id": "da3231e0",
   "metadata": {},
   "outputs": [],
   "source": [
    "class Participant:\n",
    "    next_id = 1  # Class variable to keep track of the next available ID\n",
    "\n",
    "    def __init__(self, alpha, reporting_setting):        \n",
    "        self.id = Participant.next_id  # Assign a unique ID to the participant\n",
    "        Participant.next_id += 1  # Update the next available ID for the next participant\n",
    "\n",
    "        self.alpha = alpha                                                   # degree of exaggeration\n",
    "        self.reporting_setting = reporting_setting                           # type of report they can make\n",
    "        \n",
    "        self.strategy_report = ReportingStrategy()                           # how to report given samples\n",
    "        self.bin_sample_order = []                                           # order of bins sampled\n",
    "        self.values_sampled = []                                             # values received across draws\n",
    "        self.bin_choice = -1                                                 # the bin chosen to be reported\n",
    "        reported_results = None                                              # the results reported\n",
    "        \n",
    "    def sample(self):\n",
    "        sample_number = len(self.bin_sample_order)\n",
    "        bin_number, value = draw(len(self.values_sampled), self.bin_sample_order, self.values_sampled)\n",
    "        self.bin_sample_order.append(bin_number)\n",
    "        self.values_sampled.append(value)\n",
    "\n",
    "        return bin_number, value\n",
    "        \n",
    "    def choose_bin(self, bin_sample_order, values_sampled):\n",
    "        bin_choice = choose_bin(self.bin_sample_order, self.values_sampled)\n",
    "        self.bin_choice = bin_choice\n",
    "        \n",
    "        return bin_choice\n",
    "\n",
    "    def report(self, alpha):\n",
    "        history = get_full_history(self.bin_sample_order, self.values_sampled)\n",
    "        bin_history = history[num_draws - 1][self.bin_choice]\n",
    "        self.reported_results = self.strategy_report.report(self.reporting_setting.name, self.alpha, bin_history)"
   ]
  },
  {
   "cell_type": "code",
   "execution_count": 71,
   "id": "d4f605fc",
   "metadata": {},
   "outputs": [],
   "source": [
    "# returns a data structure that shows, on each draw, the values seen in each bin at that point\n",
    "def get_full_history(bin_sample_order, values_sampled):\n",
    "    history = {draw_number: {bin_number: [] for bin_number in range(num_bins)} for draw_number in range(num_draws)}\n",
    "\n",
    "    for draw in range(len(bin_sample_order)):\n",
    "        if draw == 0:\n",
    "            history[draw][bin_sample_order[draw]].append(values_sampled[draw])\n",
    "        else:\n",
    "            prev_history = history[draw - 1].copy()\n",
    "            for bin_num in prev_history:\n",
    "                if bin_num == bin_sample_order[draw]:\n",
    "                    history[draw][bin_num] = prev_history[bin_num] + [values_sampled[draw]]\n",
    "                else:\n",
    "                    history[draw][bin_num] = prev_history[bin_num][:]\n",
    "    return history"
   ]
  },
  {
   "cell_type": "markdown",
   "id": "199205fa",
   "metadata": {},
   "source": [
    "## Initialize participants"
   ]
  },
  {
   "cell_type": "code",
   "execution_count": 72,
   "id": "a94bba78",
   "metadata": {},
   "outputs": [],
   "source": [
    "def make_participants(setting, alpha_value):\n",
    "    participants = []\n",
    "\n",
    "    for i in range (0, num_participants):\n",
    "        if setting == \"rate\":\n",
    "            report_set = ReportingSetting(\"rate\")\n",
    "        elif setting == \"data\":\n",
    "            report_set = ReportingSetting(\"data\")\n",
    "        elif setting == \"subset\":\n",
    "            report_set = ReportingSetting(\"subset\")\n",
    "\n",
    "        # make participant\n",
    "        participant = Participant(alpha=alpha_value, reporting_setting=report_set)\n",
    "                        \n",
    "        participants.append(participant)\n",
    "\n",
    "    return(participants)"
   ]
  },
  {
   "cell_type": "markdown",
   "id": "a085f85c",
   "metadata": {},
   "source": [
    "## Defining the peer review layer\n",
    "This layer takes in reports from scientists, selects reports for publication, and thereby updates the scientific record. The scientific record consists of the number of positive and negative draws associated with each bin. We do this because we assume that published data is given fully (not just publishing some sort of aggregation of the submitted results)."
   ]
  },
  {
   "cell_type": "code",
   "execution_count": 73,
   "id": "b82d3cd7",
   "metadata": {},
   "outputs": [],
   "source": [
    "# TODO: update the published scientific record\n",
    "def peer_review(participants, scientific_record):    \n",
    "    rates = [participant.reported_results for participant in participants if participant.reporting_setting.name == \"rate\"]\n",
    "\n",
    "    # if participants were only allowed to report a single rate as their finding\n",
    "    if rates:\n",
    "        final_reports = {}\n",
    "        percentiles = np.percentile(rates, np.arange(0, 101, 1))\n",
    "        \n",
    "        for participant in participants:\n",
    "            if participant.reporting_setting.name == \"rate\":\n",
    "                reported_rate = participant.reported_results\n",
    "                percentile_rank = np.searchsorted(percentiles, reported_rate) / len(percentiles) * 100\n",
    "                \n",
    "                final_reports[participant.id] = {\n",
    "                    \"reportedRate\": reported_rate,\n",
    "                    \"score\": percentile_rank / 10\n",
    "                }\n",
    "                \n",
    "        for participant in participants:\n",
    "            if final_reports[participant.id][\"reportedRate\"] > 0.5:\n",
    "                oldScore = final_reports[participant.id][\"score\"]\n",
    "                newScore = oldScore + (10 - oldScore) * 0.05\n",
    "                final_reports[participant.id][\"score\"] = newScore\n",
    "            else:\n",
    "                oldScore = final_reports[participant.id][\"score\"]\n",
    "                newScore = 0.95 * oldScore\n",
    "                final_reports[participant.id][\"score\"] = newScore\n",
    "                \n",
    "                \n",
    "        # Sort participants by score and select the top 20\n",
    "        sorted_participants = sorted(final_reports.items(), key=lambda x: x[1][\"score\"], reverse=True)\n",
    "        top_20_participants = sorted_participants[:20]\n",
    "\n",
    "        # TODO: change this to just the reported values...\n",
    "        # Calculate the percentage difference for each selected participant\n",
    "        percentage_differences = [abs(participant[1][\"reportedRate\"] - 0.5) / 0.5 * 100\n",
    "                                  for participant in top_20_participants]\n",
    "\n",
    "        # Find the average percentage difference\n",
    "        average_percentage_difference = round(np.mean(percentage_differences))\n",
    "\n",
    "        return(average_percentage_difference)\n",
    "    \n",
    "    # if there is data associated with each participant (subset or full reporting)\n",
    "    else:\n",
    "        final_reports = {}\n",
    "        reported_sums = [participant.reported_results['0'] + participant.reported_results['1']\n",
    "                         for participant in participants]\n",
    "\n",
    "        percentiles = np.percentile(reported_sums, np.arange(0, 101, 1))\n",
    "\n",
    "        for participant in participants:\n",
    "            reported_sum = participant.reported_results['0'] + participant.reported_results['1']\n",
    "            percentile_rank = np.searchsorted(percentiles, reported_sum) / len(percentiles) * 100\n",
    "            \n",
    "            reported_rate = 0\n",
    "            if participant.reported_results['1'] + participant.reported_results['0'] != 0:\n",
    "                reported_rate = participant.reported_results['1'] / (participant.reported_results['1']  + participant.reported_results['0'])\n",
    "            \n",
    "            score = percentile_rank / 10\n",
    "            final_reports[participant.id] = {\n",
    "                    \"reportedSum\": reported_sum,\n",
    "                    \"reportedRate\": reported_rate,\n",
    "                    \"score\": score\n",
    "            }\n",
    "            \n",
    "        # add surprise factor and publishing bias\n",
    "        for participant in participants:\n",
    "            reported_rate = final_reports[participant.id][\"reportedRate\"]\n",
    "            oldScore = final_reports[participant.id][\"score\"]\n",
    "            \n",
    "            newScore = oldScore + (10 - oldScore)*(abs(reported_rate - 0.5)) # surprise factor\n",
    "            \n",
    "            # publishing bias\n",
    "            if reported_rate < 0.5:\n",
    "                newScore = 0.95 * oldScore\n",
    "            else:\n",
    "                newScore = oldScore + (10 - oldScore) * 0.05\n",
    "            \n",
    "            final_reports[participant.id][\"score\"] = newScore\n",
    "            \n",
    "        # Sort participants by score and select the top 20\n",
    "        sorted_participants = sorted(final_reports.items(), key=lambda x: x[1][\"score\"], reverse=True)\n",
    "        top_20_participants = sorted_participants[:20]\n",
    "\n",
    "        # TODO: change this to just the reported values\n",
    "        # Calculate the percentage difference for each selected participant\n",
    "        percentage_differences = [abs(participant[1][\"reportedRate\"] - 0.5) / 0.5 * 100\n",
    "                                  for participant in top_20_participants]\n",
    "\n",
    "        # Find the average percentage difference\n",
    "        average_percentage_difference = round(np.mean(percentage_differences))\n",
    "\n",
    "        return(average_percentage_difference)"
   ]
  },
  {
   "cell_type": "markdown",
   "id": "beaba01c",
   "metadata": {},
   "source": [
    "## Print scientific record\n",
    "\n",
    "For debugging purposes, the following allows us to print the existing scientific record."
   ]
  },
  {
   "cell_type": "code",
   "execution_count": 74,
   "id": "2238442f",
   "metadata": {},
   "outputs": [],
   "source": [
    "def print_record(scientific_record):\n",
    "    print(\"Scientific record\")\n",
    "    for i in range(0, num_bins):\n",
    "        print(f\"   bin {i}: {scientific_record[i]['0']} zero(s), {scientific_record[i]['0']} one(s)\")\n",
    "    print()"
   ]
  },
  {
   "cell_type": "markdown",
   "id": "ed7078d0",
   "metadata": {},
   "source": [
    "## Run an experiment\n",
    "\n",
    "The multi-generational experiment is run, given reporting setting and exaggeration values."
   ]
  },
  {
   "cell_type": "code",
   "execution_count": 79,
   "id": "70ff5973",
   "metadata": {},
   "outputs": [],
   "source": [
    "def run_experiment(setting, alpha_value):\n",
    "    # each experiment starts with a blank cannon\n",
    "    scientific_record = {}\n",
    "    for bin_num in range(0, num_bins):\n",
    "        scientific_record[bin_num] = {\"0\": 1, \"1\": 1} # start with a 1-1 prior \n",
    "    \n",
    "    print_record(scientific_record)\n",
    "    participants = make_participants(setting, alpha_value)\n",
    "    \n",
    "    for generation in range(0, num_generations):\n",
    "        print(f\"* Generation {generation}...\")\n",
    "\n",
    "        # scientists explore and submit reports\n",
    "        for participant in participants:\n",
    "            # sample\n",
    "            for i in range(0, num_draws):\n",
    "                bin_number, value = participant.sample()\n",
    "                \n",
    "                print(f\"   sample from bin {bin_number}: {value}\")\n",
    "\n",
    "            # choose the bin\n",
    "            bin_choice = participant.choose_bin(participant.bin_sample_order, participant.values_sampled)\n",
    "            print(f\"\\n   chose bin {bin_choice}\")\n",
    "\n",
    "            # specify alpha value\n",
    "            participant.report(alpha_value)\n",
    "            \n",
    "        # the peer review board selects reports for publication and updates the scientific record\n",
    "        peer_review(participants, scientific_record)\n",
    "        print()"
   ]
  },
  {
   "cell_type": "code",
   "execution_count": 80,
   "id": "102cfea0",
   "metadata": {},
   "outputs": [
    {
     "name": "stdout",
     "output_type": "stream",
     "text": [
      "Scientific record\n",
      "   bin 0: 1 zero(s), 1 one(s)\n",
      "   bin 1: 1 zero(s), 1 one(s)\n",
      "   bin 2: 1 zero(s), 1 one(s)\n",
      "\n",
      "* Generation 0...\n",
      "   sample from bin 0: 0\n",
      "   sample from bin 0: 0\n",
      "   sample from bin 0: 0\n",
      "   sample from bin 0: 0\n",
      "   sample from bin 0: 0\n",
      "   sample from bin 0: 0\n",
      "   sample from bin 0: 0\n",
      "   sample from bin 0: 0\n",
      "   sample from bin 0: 0\n",
      "   sample from bin 0: 0\n",
      "\n",
      "   chose bin 0\n",
      "\n",
      "* Generation 1...\n",
      "   sample from bin 0: 0\n",
      "   sample from bin 0: 0\n",
      "   sample from bin 0: 0\n",
      "   sample from bin 0: 0\n",
      "   sample from bin 0: 0\n",
      "   sample from bin 0: 0\n",
      "   sample from bin 0: 0\n",
      "   sample from bin 0: 0\n",
      "   sample from bin 0: 0\n",
      "   sample from bin 0: 0\n",
      "\n",
      "   chose bin 0\n"
     ]
    },
    {
     "ename": "KeyError",
     "evalue": "10",
     "output_type": "error",
     "traceback": [
      "\u001b[0;31m---------------------------------------------------------------------------\u001b[0m",
      "\u001b[0;31mKeyError\u001b[0m                                  Traceback (most recent call last)",
      "Cell \u001b[0;32mIn [80], line 1\u001b[0m\n\u001b[0;32m----> 1\u001b[0m \u001b[43mrun_experiment\u001b[49m\u001b[43m(\u001b[49m\u001b[38;5;124;43m\"\u001b[39;49m\u001b[38;5;124;43mdata\u001b[39;49m\u001b[38;5;124;43m\"\u001b[39;49m\u001b[43m,\u001b[49m\u001b[43m \u001b[49m\u001b[38;5;241;43m0\u001b[39;49m\u001b[43m)\u001b[49m\n",
      "Cell \u001b[0;32mIn [79], line 26\u001b[0m, in \u001b[0;36mrun_experiment\u001b[0;34m(setting, alpha_value)\u001b[0m\n\u001b[1;32m     23\u001b[0m     \u001b[38;5;28mprint\u001b[39m(\u001b[38;5;124mf\u001b[39m\u001b[38;5;124m\"\u001b[39m\u001b[38;5;130;01m\\n\u001b[39;00m\u001b[38;5;124m   chose bin \u001b[39m\u001b[38;5;132;01m{\u001b[39;00mbin_choice\u001b[38;5;132;01m}\u001b[39;00m\u001b[38;5;124m\"\u001b[39m)\n\u001b[1;32m     25\u001b[0m     \u001b[38;5;66;03m# specify alpha value\u001b[39;00m\n\u001b[0;32m---> 26\u001b[0m     \u001b[43mparticipant\u001b[49m\u001b[38;5;241;43m.\u001b[39;49m\u001b[43mreport\u001b[49m\u001b[43m(\u001b[49m\u001b[43malpha_value\u001b[49m\u001b[43m)\u001b[49m\n\u001b[1;32m     28\u001b[0m \u001b[38;5;66;03m# the peer review board selects reports for publication and updates the scientific record\u001b[39;00m\n\u001b[1;32m     29\u001b[0m peer_review(participants, scientific_record)\n",
      "Cell \u001b[0;32mIn [70], line 32\u001b[0m, in \u001b[0;36mParticipant.report\u001b[0;34m(self, alpha)\u001b[0m\n\u001b[1;32m     31\u001b[0m \u001b[38;5;28;01mdef\u001b[39;00m \u001b[38;5;21mreport\u001b[39m(\u001b[38;5;28mself\u001b[39m, alpha):\n\u001b[0;32m---> 32\u001b[0m     history \u001b[38;5;241m=\u001b[39m \u001b[43mget_full_history\u001b[49m\u001b[43m(\u001b[49m\u001b[38;5;28;43mself\u001b[39;49m\u001b[38;5;241;43m.\u001b[39;49m\u001b[43mbin_sample_order\u001b[49m\u001b[43m,\u001b[49m\u001b[43m \u001b[49m\u001b[38;5;28;43mself\u001b[39;49m\u001b[38;5;241;43m.\u001b[39;49m\u001b[43mvalues_sampled\u001b[49m\u001b[43m)\u001b[49m\n\u001b[1;32m     33\u001b[0m     bin_history \u001b[38;5;241m=\u001b[39m history[num_draws \u001b[38;5;241m-\u001b[39m \u001b[38;5;241m1\u001b[39m][\u001b[38;5;28mself\u001b[39m\u001b[38;5;241m.\u001b[39mbin_choice]\n\u001b[1;32m     34\u001b[0m     \u001b[38;5;28mself\u001b[39m\u001b[38;5;241m.\u001b[39mreported_results \u001b[38;5;241m=\u001b[39m \u001b[38;5;28mself\u001b[39m\u001b[38;5;241m.\u001b[39mstrategy_report\u001b[38;5;241m.\u001b[39mreport(\u001b[38;5;28mself\u001b[39m\u001b[38;5;241m.\u001b[39mreporting_setting\u001b[38;5;241m.\u001b[39mname, \u001b[38;5;28mself\u001b[39m\u001b[38;5;241m.\u001b[39malpha, bin_history)\n",
      "Cell \u001b[0;32mIn [71], line 12\u001b[0m, in \u001b[0;36mget_full_history\u001b[0;34m(bin_sample_order, values_sampled)\u001b[0m\n\u001b[1;32m     10\u001b[0m \u001b[38;5;28;01mfor\u001b[39;00m bin_num \u001b[38;5;129;01min\u001b[39;00m prev_history:\n\u001b[1;32m     11\u001b[0m     \u001b[38;5;28;01mif\u001b[39;00m bin_num \u001b[38;5;241m==\u001b[39m bin_sample_order[draw]:\n\u001b[0;32m---> 12\u001b[0m         \u001b[43mhistory\u001b[49m\u001b[43m[\u001b[49m\u001b[43mdraw\u001b[49m\u001b[43m]\u001b[49m[bin_num] \u001b[38;5;241m=\u001b[39m prev_history[bin_num] \u001b[38;5;241m+\u001b[39m [values_sampled[draw]]\n\u001b[1;32m     13\u001b[0m     \u001b[38;5;28;01melse\u001b[39;00m:\n\u001b[1;32m     14\u001b[0m         history[draw][bin_num] \u001b[38;5;241m=\u001b[39m prev_history[bin_num][:]\n",
      "\u001b[0;31mKeyError\u001b[0m: 10"
     ]
    }
   ],
   "source": [
    "run_experiment(\"data\", 0)"
   ]
  },
  {
   "cell_type": "code",
   "execution_count": null,
   "id": "580d1523",
   "metadata": {},
   "outputs": [],
   "source": []
  },
  {
   "cell_type": "code",
   "execution_count": null,
   "id": "698c7a24",
   "metadata": {},
   "outputs": [],
   "source": []
  },
  {
   "cell_type": "code",
   "execution_count": null,
   "id": "24bb9b74",
   "metadata": {},
   "outputs": [],
   "source": []
  },
  {
   "cell_type": "code",
   "execution_count": null,
   "id": "d1339a6d",
   "metadata": {},
   "outputs": [],
   "source": []
  },
  {
   "cell_type": "markdown",
   "id": "447cec36",
   "metadata": {},
   "source": [
    "## Compare hyperparameters across experiments\n",
    "\n",
    "Run multiple experiments to see the effect of different reporting settings and alpha values on the published scientific record."
   ]
  },
  {
   "cell_type": "code",
   "execution_count": null,
   "id": "0c453b84",
   "metadata": {},
   "outputs": [],
   "source": [
    "reporting_settings = [\"rate\", \"data\", \"subset\"]\n",
    "alpha_values = [0, 0.25, 0.5, 0.75, 1]\n",
    "\n",
    "results = [] # TODO: fix this into whatever you want\n",
    "\n",
    "for reporting_setting in reporting_settings:\n",
    "    for alpha_value in alpha_values:\n",
    "        result = run_experiment(reporting_strategy, setting, alpha_value)\n",
    "        results.append(result)\n",
    "\n",
    "        # TODO: save the results"
   ]
  },
  {
   "cell_type": "code",
   "execution_count": null,
   "id": "cd53dc42",
   "metadata": {},
   "outputs": [],
   "source": []
  },
  {
   "cell_type": "code",
   "execution_count": null,
   "id": "3f4032e5",
   "metadata": {},
   "outputs": [],
   "source": []
  },
  {
   "cell_type": "code",
   "execution_count": null,
   "id": "04a14c12",
   "metadata": {},
   "outputs": [],
   "source": []
  },
  {
   "cell_type": "code",
   "execution_count": null,
   "id": "0d9e1b15",
   "metadata": {},
   "outputs": [],
   "source": []
  },
  {
   "cell_type": "code",
   "execution_count": null,
   "id": "02ed0520",
   "metadata": {},
   "outputs": [],
   "source": []
  },
  {
   "cell_type": "code",
   "execution_count": null,
   "id": "8342b93e",
   "metadata": {},
   "outputs": [],
   "source": []
  },
  {
   "cell_type": "markdown",
   "id": "c7b4ef1a",
   "metadata": {},
   "source": [
    "## Analyze the results"
   ]
  },
  {
   "cell_type": "code",
   "execution_count": null,
   "id": "9e9a5fee",
   "metadata": {},
   "outputs": [],
   "source": [
    "# Initialize the dictionary to store mean percent errors\n",
    "mean_percent_errors_dict = {}\n",
    "\n",
    "# Number of runs for each key\n",
    "num_runs = 10\n",
    "\n",
    "for gathering_strategy in gathering_strategies:\n",
    "    for bin_choosing_strategy in bin_choosing_strategies:\n",
    "        for reporting_strategy in reporting_strategies:\n",
    "            for setting in reporting_setting:\n",
    "                for alpha_value in alpha_values:\n",
    "                    # Initialize a list to store MPE for each run\n",
    "                    mpe_list = []\n",
    "\n",
    "                    for _ in range(num_runs):\n",
    "                        participants = make_participants(gathering_strategy, bin_choosing_strategy, reporting_strategy, setting, alpha_value)\n",
    "                        mean_percent_error = peer_review(participants)\n",
    "                        mpe_list.append(mean_percent_error)\n",
    "\n",
    "                    # Calculate the average MPE\n",
    "                    avg_mpe = np.mean(mpe_list)\n",
    "\n",
    "                    # Create a key based on the variable names\n",
    "                    key = (gathering_strategy, bin_choosing_strategy, reporting_strategy, setting, alpha_value)\n",
    "\n",
    "                    # Store the average MPE in the dictionary\n",
    "                    mean_percent_errors_dict[key] = avg_mpe\n",
    "\n",
    "print(mean_percent_errors_dict)"
   ]
  },
  {
   "cell_type": "code",
   "execution_count": null,
   "id": "339a1412",
   "metadata": {},
   "outputs": [],
   "source": [
    "# Convert tuple keys to strings\n",
    "string_keys_dict = {str(key): value for key, value in mean_percent_errors_dict.items()}\n",
    "\n",
    "# Specify the file path to save the JSON file\n",
    "json_file_path = 'mean_percent_errors.json'\n",
    "\n",
    "# Save the dictionary with string keys to a JSON file\n",
    "with open(json_file_path, 'w') as json_file:\n",
    "    json.dump(string_keys_dict, json_file)\n",
    "\n",
    "print(f\"Mean percent errors saved to {json_file_path}\")"
   ]
  },
  {
   "cell_type": "markdown",
   "id": "e3325294",
   "metadata": {},
   "source": [
    "## Find best 5 and worst 5 settings"
   ]
  },
  {
   "cell_type": "code",
   "execution_count": null,
   "id": "04f418e4",
   "metadata": {},
   "outputs": [],
   "source": [
    "# Convert tuple keys to strings\n",
    "string_keys_dict = {str(key): value for key, value in mean_percent_errors_dict.items()}\n",
    "\n",
    "# Sort the dictionary by values\n",
    "sorted_dict = dict(sorted(string_keys_dict.items(), key=lambda item: item[1]))\n",
    "\n",
    "# Print the best five settings with their MPE\n",
    "print(\"Best 15 Settings:\")\n",
    "for key in list(sorted_dict)[:15]:\n",
    "    setting_tuple = eval(key)  # Convert the string back to a tuple\n",
    "    mpe = sorted_dict[key]\n",
    "    print(f\"{setting_tuple}: {mpe}\")\n",
    "\n",
    "# Print the worst five settings with their MPE\n",
    "print(\"\\nWorst 15 Settings:\")\n",
    "for key in list(sorted_dict)[-15:]:\n",
    "    setting_tuple = eval(key)  # Convert the string back to a tuple\n",
    "    mpe = sorted_dict[key]\n",
    "    print(f\"{setting_tuple}: {mpe}\")"
   ]
  },
  {
   "cell_type": "code",
   "execution_count": 24,
   "id": "e0351a12",
   "metadata": {},
   "outputs": [
    {
     "ename": "NameError",
     "evalue": "name 'mean_percent_errors_dict' is not defined",
     "output_type": "error",
     "traceback": [
      "\u001b[0;31m---------------------------------------------------------------------------\u001b[0m",
      "\u001b[0;31mNameError\u001b[0m                                 Traceback (most recent call last)",
      "Cell \u001b[0;32mIn [24], line 2\u001b[0m\n\u001b[1;32m      1\u001b[0m \u001b[38;5;66;03m# Convert tuple keys to strings\u001b[39;00m\n\u001b[0;32m----> 2\u001b[0m string_keys_dict \u001b[38;5;241m=\u001b[39m {\u001b[38;5;28mstr\u001b[39m(key): value \u001b[38;5;28;01mfor\u001b[39;00m key, value \u001b[38;5;129;01min\u001b[39;00m \u001b[43mmean_percent_errors_dict\u001b[49m\u001b[38;5;241m.\u001b[39mitems()}\n\u001b[1;32m      4\u001b[0m \u001b[38;5;66;03m# Filter out settings where alpha is equal to 1\u001b[39;00m\n\u001b[1;32m      5\u001b[0m filtered_dict \u001b[38;5;241m=\u001b[39m {key: value \u001b[38;5;28;01mfor\u001b[39;00m key, value \u001b[38;5;129;01min\u001b[39;00m string_keys_dict\u001b[38;5;241m.\u001b[39mitems() \u001b[38;5;28;01mif\u001b[39;00m \u001b[38;5;28meval\u001b[39m(key)[\u001b[38;5;241m-\u001b[39m\u001b[38;5;241m1\u001b[39m] \u001b[38;5;241m!=\u001b[39m \u001b[38;5;241m1\u001b[39m}\n",
      "\u001b[0;31mNameError\u001b[0m: name 'mean_percent_errors_dict' is not defined"
     ]
    }
   ],
   "source": [
    "# Convert tuple keys to strings\n",
    "string_keys_dict = {str(key): value for key, value in mean_percent_errors_dict.items()}\n",
    "\n",
    "# Filter out settings where alpha is equal to 1\n",
    "filtered_dict = {key: value for key, value in string_keys_dict.items() if eval(key)[-1] != 1}\n",
    "\n",
    "# Sort the filtered dictionary by values in descending order\n",
    "sorted_filtered_dict = dict(sorted(filtered_dict.items(), key=lambda item: item[1], reverse=True))\n",
    "r\n",
    "# Print the worst settings with alpha not equal to 1\n",
    "print(\"Worst Settings (alpha not equal to 1) in Order:\")\n",
    "for key, value in sorted_filtered_dict.items():\n",
    "    setting_tuple = eval(key)  # Convert the string back to a tuple\n",
    "    print(f\"{setting_tuple}: {value}\")"
   ]
  },
  {
   "cell_type": "code",
   "execution_count": null,
   "id": "5d9c67dc",
   "metadata": {},
   "outputs": [],
   "source": [
    "from collections import defaultdict\n",
    "\n",
    "# Convert tuple keys to strings\n",
    "string_keys_dict = {str(key): value for key, value in mean_percent_errors_dict.items()}\n",
    "\n",
    "# Create a defaultdict to store MPE values for each unique setting component\n",
    "component_mpes = defaultdict(list)\n",
    "\n",
    "# Populate the defaultdict with MPE values\n",
    "for key, value in string_keys_dict.items():\n",
    "    setting_tuple = eval(key)\n",
    "    \n",
    "    # Iterate over all components in the setting tuple\n",
    "    for component in setting_tuple:\n",
    "        component_mpes[component].append(value)\n",
    "\n",
    "# Calculate average MPE for each unique setting component\n",
    "average_mpes = {component: np.mean(mpe_list) for component, mpe_list in component_mpes.items()}\n",
    "\n",
    "# Print the average MPE for each setting component\n",
    "print(\"Average MPE for Each Setting Component:\")\n",
    "for component, average_mpe in average_mpes.items():\n",
    "    print(f\"{component}: {average_mpe}\")"
   ]
  }
 ],
 "metadata": {
  "kernelspec": {
   "display_name": "Python 3 (ipykernel)",
   "language": "python",
   "name": "python3"
  },
  "language_info": {
   "codemirror_mode": {
    "name": "ipython",
    "version": 3
   },
   "file_extension": ".py",
   "mimetype": "text/x-python",
   "name": "python",
   "nbconvert_exporter": "python",
   "pygments_lexer": "ipython3",
   "version": "3.8.8"
  }
 },
 "nbformat": 4,
 "nbformat_minor": 5
}
