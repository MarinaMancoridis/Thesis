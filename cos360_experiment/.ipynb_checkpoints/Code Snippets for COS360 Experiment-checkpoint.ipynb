{
 "cells": [
  {
   "cell_type": "markdown",
   "id": "89e5ae32",
   "metadata": {},
   "source": [
    "# Phase 1:\n",
    "Participants are faced with a multi-armed bandit problem where they sample vessels with undisclosed contents and no priors. There will be two settings: a life-threatening one in which they are trying to find out which drugs are safe for public consumption and a purely informative one where they are reviewing the products of new brands. In each setting, they will pull content from the vessels and report their results to a board."
   ]
  },
  {
   "cell_type": "code",
   "execution_count": 16,
   "id": "74d267b9",
   "metadata": {},
   "outputs": [
    {
     "name": "stdout",
     "output_type": "stream",
     "text": [
      "In this experiment, you are a researcher conducting a critical investigation into drug safety for public consumption. Your responsibility involves extracting samples from a collection of vessels, where each vessel contains pills representing the specific drug assigned to that vessel. Your goal is to determine which drugs are safe for public use. After pulling content from the vessels, you will need to report your findings to a board. Your decisions in this life-threatening scenario will have significant consequences for public health. Make informed choices to maximize the discovery of safe drugs and minimize potential harm. \n",
      "\n",
      "You can sample a pill from a vessel by clicking on it. You will be able to take ten samples. When you get a sample, you will see a number on a scale from 1-10. A value of 1 means that you are very confident that the pill is not safe and a value of 10 means that you are very confident that the pill is safe. You will see your next instructions after sampling.\n"
     ]
    }
   ],
   "source": [
    "# Prompt to the prober in the drug safety setting\n",
    "prompt_drugs = \"In this experiment, you are a researcher conducting a critical investigation into drug safety for public consumption. Your responsibility involves extracting samples from a collection of vessels, where each vessel contains pills representing the specific drug assigned to that vessel. Your goal is to determine which drugs are safe for public use. After pulling content from the vessels, you will need to report your findings to a board. Your decisions in this life-threatening scenario will have significant consequences for public health. Make informed choices to maximize the discovery of safe drugs and minimize potential harm. \\n\\nYou can sample a pill from a vessel by clicking on it. You will be able to take ten samples. When you get a sample, you will see a number on a scale from 1-10. A value of 1 means that you are very confident that the pill is not safe and a value of 10 means that you are very confident that the pill is safe. You will see your next instructions after sampling.\"\n",
    "print(prompt_drugs)"
   ]
  },
  {
   "cell_type": "code",
   "execution_count": null,
   "id": "84bf29b0",
   "metadata": {},
   "outputs": [],
   "source": [
    "# Images for the drug safety setting\n"
   ]
  },
  {
   "cell_type": "code",
   "execution_count": 18,
   "id": "a5680e7f",
   "metadata": {},
   "outputs": [
    {
     "name": "stdout",
     "output_type": "stream",
     "text": [
      "In this experiment, you are an analyst reviewing products from new brands. Your responsibility involves extracting samples from a collection of vessels, where each vessel contains product from the specific brand assigned to that vessel. Your goal is to determine which brands are the best. After pulling content from the vessels, you will need to report your findings to a board. Your decisions in this informative setting will contribute to the understanding and perception of various brands. \n",
      "\n",
      "You can sample a product from a vessel by clicking on it. You will be able to take ten samples. When you get a sample, you will see a number on a scale from 1-10. A value of 1 means that you hate the product and a value of 10 means that you love the product. You will see your next instructions after sampling.\n"
     ]
    }
   ],
   "source": [
    "# Prompt to the prober in the product ratings setting\n",
    "prompt_products = \"In this experiment, you are an analyst reviewing products from new brands. Your responsibility involves extracting samples from a collection of vessels, where each vessel contains product from the specific brand assigned to that vessel. Your goal is to determine which brands are the best. After pulling content from the vessels, you will need to report your findings to a board. Your decisions in this informative setting will contribute to the understanding and perception of various brands. \\n\\nYou can sample a product from a vessel by clicking on it. You will be able to take ten samples. When you get a sample, you will see a number on a scale from 1-10. A value of 1 means that you hate the product and a value of 10 means that you love the product. You will see your next instructions after sampling.\"\n",
    "print(prompt_products)"
   ]
  },
  {
   "cell_type": "code",
   "execution_count": null,
   "id": "aa033b02",
   "metadata": {},
   "outputs": [],
   "source": [
    "# Images for the product ratings setting\n"
   ]
  }
 ],
 "metadata": {
  "kernelspec": {
   "display_name": "Python 3 (ipykernel)",
   "language": "python",
   "name": "python3"
  },
  "language_info": {
   "codemirror_mode": {
    "name": "ipython",
    "version": 3
   },
   "file_extension": ".py",
   "mimetype": "text/x-python",
   "name": "python",
   "nbconvert_exporter": "python",
   "pygments_lexer": "ipython3",
   "version": "3.8.8"
  }
 },
 "nbformat": 4,
 "nbformat_minor": 5
}
