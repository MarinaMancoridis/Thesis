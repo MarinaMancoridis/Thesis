{
 "cells": [
  {
   "cell_type": "markdown",
   "id": "7c32728c",
   "metadata": {},
   "source": [
    "# Experimental Data Analysis"
   ]
  },
  {
   "cell_type": "code",
   "execution_count": 37,
   "id": "f562a699",
   "metadata": {},
   "outputs": [
    {
     "name": "stdout",
     "output_type": "stream",
     "text": [
      "Index(['id', 'report', 'drug_to_report', 'final_reported_answer', 'strategy'], dtype='object')\n"
     ]
    }
   ],
   "source": [
    "import pandas as pd\n",
    "import json\n",
    "import matplotlib.pyplot as plt\n",
    "import numpy as np\n",
    "\n",
    "file_path = 'participant_data_ratbandit.csv'\n",
    "df = pd.read_csv(file_path)\n",
    "\n",
    "print(df.columns)"
   ]
  },
  {
   "cell_type": "markdown",
   "id": "6297a7d9",
   "metadata": {},
   "source": [
    "### Strategies"
   ]
  },
  {
   "cell_type": "code",
   "execution_count": 53,
   "id": "7d713568",
   "metadata": {},
   "outputs": [
    {
     "name": "stdout",
     "output_type": "stream",
     "text": [
      "nan\n",
      "\n",
      "AFTER A RAT DIED I WOULD CHOOSE THAT SAME TUBE AS UNLIKELY TO HAVE 2 DIE IN A ROW\n",
      "\n",
      "I tried all three and then stuck to the only one that survived in the first round\n",
      "\n",
      "I tried each pill on the first 3 rats, then went back to pill 1 when all 3 rats died, when rat 4 survived i carried on using pill 1 until another rat had died, then moved onto pill 2. \n",
      "\n",
      "I wanted to ensure each pill had the maximum possible opportunities to work or fail on the rats, hence giving each pill out 3 times. For the last rat, I thought about the previous results of each pill (whether the rat had died or survived), and chose to give the pill that had performed most consistently, in order to test if the pill's performance was universal. \n",
      "\n",
      "once i found a pill that the rat survived i gave it to the other rats\n",
      "\n",
      "I tried container 1 first but three rats died in a row so I moved onto container 2. More mixed results here. Then I tried container three.\n",
      "\n",
      "I wanted to make sure each container was used equally. That way the percentage of survival would be easier to associate with each container, and the likely hood of discovering a reliable pill to a defunct one would be easier to identify for future studies.\n",
      "\n",
      "guess work, i had no idea what to think with the answers i was given\n",
      "\n",
      "To try them all to start with. It showed i shouldn't just go with the first results, as 1 proved\n",
      "\n",
      "I decided to test 3 rats on each of the 3 drugs and the last rat on the drug I thought might have had the best chance for survival. \n",
      "\n",
      "I tried each container to test for survival. Unfortunately based on the results I was no wiser\n",
      "\n",
      "Logically I tried all 3 sequentially and then stuck with the first pill that gave me the most success. When that pill failed I tried the second most successful pill. When that pill failed I went back to the first most successful pill and found it worked more often than not. This is why I excursively used this pill for the rest of the experiment.\n",
      "\n",
      "I tried to follow what worked a little at first by having a uniformed way I picked with first 2 then 1 then 3 but that started to fail me after a while\n",
      "\n",
      "See which containers had the best outcome, and use those. If the container then changed it's outcome, try a different one.\n",
      "\n",
      "I first tried every bottle of pills until one of the rats survived. This took me a bit as they kept dying but once one rat survived I stuck with that bottle to see if any more rats would live and they did so I decided it was best to stick with that bottle of pills for the best outcome. \n",
      "\n",
      "I decided to only test two of the containers with five rats each. The number of rats wasn't really large enough to properly test all three. The strategy was that I might find the container with the working drug if a) one of the tested containers produced no deaths or b) both of the tested containers produced ~50% deaths. As it happened, one of the tested containers did lead to one death but I decided to report on that one rather than one I hadn't tested at all.\n",
      "\n",
      "I was trying to see which of the bottles made the most rats survive. It was clear, from my limited sampling, that only 3 seemed to stop rats from dying.\n",
      "\n",
      "I tried each pill one at a time. The first two bottles led to rats surviving, but bottle 3 had the rate die. I repeated the 3rd bottle two more times to replicate the result, then tried to replicate the results of the other bottles.\n",
      "\n",
      "Tried a number from each container to get picture of results, to see if any was better, seemed about the same. If i'd known the taks i'd have used only 1 for all 10 to get a better rate\n",
      "\n",
      "It was to choose all of them equally in order to understand the ratio better. This way it would've been easier to report back the survival or death rate\n",
      "\n",
      "if a rat survives stick with that container \n",
      "\n",
      "I was trying to memorise which ones survived in which numbered bottle \n",
      "\n",
      "I chose each container in turn seeing if I could get a survival, and container 3 had a rat survive. I knew that wasn't enough evidence to know for sure that container 3 was the best because, if I recall, the survival rate was 50% anyway. So I continued to use container 3 a total of 8 times and I got 8 survivals. This was strong evidence for the efficacy of the pills in container 3. However, when reporting my findings, while I could report 8 survivals, I was not allowed to enter zero deaths for container 3 because the scale started at 1. So I was forced to select 1 death for container 3, even though this was actually false.\n",
      "\n",
      "I went through each container one after the other. Although a rat died from the first container's pills, I thought I should try again with container #1 to see if anymore died, none did.\n",
      "\n",
      "To as quickly as possible choose the pill that made most of the rats survive\n",
      "\n",
      "tried to see if there was a pattern\n",
      "\n",
      "I noticed that the rats always died with the first bottle, so I assume the drug doesn't cure the disease I am researching\n",
      "\n",
      "making sure that at least 3 rats were given a dose from each container to asses the probability of survival.\n",
      "\n",
      "I gave box 1 a chance to get better than 50% survival, but after 4 goes I then spread the rest over the other two bottles. Only bottle 2 showed 100% death after 2 goes so I ignored that one and spent the rest of the experiments on box 3\n",
      "\n"
     ]
    }
   ],
   "source": [
    "# Examining the strategies that people employed\n",
    "for strat in df['strategy']:\n",
    "    print(strat)\n",
    "    print()"
   ]
  },
  {
   "cell_type": "code",
   "execution_count": 39,
   "id": "3bfd473a",
   "metadata": {},
   "outputs": [
    {
     "name": "stdout",
     "output_type": "stream",
     "text": [
      "{\"data\": [[\"1\", \"died\"], [\"2\", \"died\"], [\"3\", \"survived\"], [\"3\", \"survived\"], [\"3\", \"survived\"], [\"3\", \"survived\"], [\"3\", \"died\"], [\"2\", \"died\"], [\"3\", \"survived\"], [\"3\", \"died\"]], \"report\": {\"style\": \"full\", \"drug_to_report\": \"3\"}}\n"
     ]
    }
   ],
   "source": [
    "print(df['report'][0])"
   ]
  },
  {
   "cell_type": "markdown",
   "id": "4c73f300",
   "metadata": {},
   "source": [
    "### Organize Participants by their reporting styles"
   ]
  },
  {
   "cell_type": "code",
   "execution_count": 40,
   "id": "ed3aab22",
   "metadata": {},
   "outputs": [],
   "source": [
    "full_participants = {}\n",
    "subset_participants = {}\n",
    "headline_participants = {}"
   ]
  },
  {
   "cell_type": "code",
   "execution_count": 41,
   "id": "76286733",
   "metadata": {},
   "outputs": [],
   "source": [
    "class ExperimentParticipant:\n",
    "    def __init__(self, reporting_setting, report, choice, results_dict):\n",
    "        self.reporting_setting = reporting_setting                           # type of report a participant can make\n",
    "        self.bin_sample_order = self.get_sample_order(report)                # order of bins sampled\n",
    "        self.values_sampled = self.get_values_sampled(report)                # values received across draws\n",
    "        self.bin_choice = choice                                             # the bin chosen to be reported\n",
    "        self.reported_results = self.get_results(results_dict)               # the results reported\n",
    "        \n",
    "    def get_sample_order(self, report):\n",
    "        order = []\n",
    "        for data in report['data']:\n",
    "            order.append(data[0])\n",
    "        return(order)\n",
    "    \n",
    "    def get_values_sampled(self, report):\n",
    "        values = []\n",
    "        for data in report['data']:\n",
    "            if data[1] == 'died':\n",
    "                values.append(0)\n",
    "            elif data[1] == 'survived':\n",
    "                values.append(1)\n",
    "        return(values)\n",
    "    \n",
    "    def get_results(self, results_dict):\n",
    "        if self.reporting_setting == \"full\":\n",
    "            results = {}\n",
    "            results['survived'] = results_dict[\"Report the number of rats that survived for the chosen container:\"]\n",
    "            results['died'] = results_dict[\"Report the number of rats that died for the chosen container:\"]\n",
    "            return(results)\n",
    "        \n",
    "        elif self.reporting_setting == \"subset\":\n",
    "            results = {}\n",
    "            data = results_dict['Please select a subset of your data that you would like to report (you can select more than one item).']\n",
    "            \n",
    "            survived_count = 0\n",
    "            died_count = 0\n",
    "\n",
    "            for item in data:\n",
    "                if \"survived\" in item:\n",
    "                    survived_count += 1\n",
    "                elif \"died\" in item:\n",
    "                    died_count += 1\n",
    "            \n",
    "            results['survived'] = survived_count\n",
    "            results['died'] = died_count\n",
    "            return(results)\n",
    "        \n",
    "        elif self.reporting_setting == \"headline\":\n",
    "            return(results_dict / 100)"
   ]
  },
  {
   "cell_type": "code",
   "execution_count": 42,
   "id": "ec55951c",
   "metadata": {},
   "outputs": [],
   "source": [
    "# iterates through every participant\n",
    "for index, row in df.iterrows():\n",
    "    participant_id = row['id']\n",
    "    \n",
    "    data_dict = json.loads(row['report'])\n",
    "    reporting_type = data_dict['report']['style']\n",
    "    bin_choice = int(row['drug_to_report'])\n",
    "    results_dict = json.loads(row['final_reported_answer'])\n",
    "    participant = ExperimentParticipant(reporting_type, data_dict, bin_choice, results_dict)\n",
    "    \n",
    "    if reporting_type == \"full\":\n",
    "        full_participants[participant_id] = participant\n",
    "    elif reporting_type == \"subset\":\n",
    "        subset_participants[participant_id] = participant\n",
    "    elif reporting_type == \"headline\":\n",
    "        headline_participants[participant_id] = participant"
   ]
  },
  {
   "cell_type": "markdown",
   "id": "0d2c04f3",
   "metadata": {},
   "source": [
    "### Figure 1: Real results against reported results"
   ]
  },
  {
   "cell_type": "code",
   "execution_count": 43,
   "id": "bfdd31c6",
   "metadata": {},
   "outputs": [],
   "source": [
    "x1 = np.zeros(len(headline_participants))\n",
    "y1 = np.zeros(len(headline_participants))\n",
    "x2 = np.zeros(len(full_participants))\n",
    "y2 = np.zeros(len(full_participants))\n",
    "x3 = np.zeros(len(subset_participants))\n",
    "y3 = np.zeros(len(subset_participants))\n",
    "\n",
    "count = 0\n",
    "for participant_id in headline_participants:\n",
    "    x1[count] = headline_participants[participant_id].reported_results\n",
    "    y1[count] = np.mean(headline_participants[participant_id].values_sampled)\n",
    "    count += 1\n",
    "\n",
    "count = 0\n",
    "for participant_id in full_participants:\n",
    "    survived = full_participants[participant_id].reported_results['survived']\n",
    "    died = full_participants[participant_id].reported_results['died']\n",
    "    \n",
    "    if (survived + died) == 0:\n",
    "        x2[count] = 0.5\n",
    "    else:\n",
    "        x2[count] = survived / (survived + died)\n",
    "    \n",
    "    y2[count] = np.mean(full_participants[participant_id].values_sampled)\n",
    "    count += 1\n",
    "    \n",
    "count = 0\n",
    "for participant_id in subset_participants:\n",
    "    survived = subset_participants[participant_id].reported_results['survived']\n",
    "    died = subset_participants[participant_id].reported_results['died']\n",
    "        \n",
    "    if (survived + died) == 0:\n",
    "        x3[count] = 0.5\n",
    "        \n",
    "    else:\n",
    "        x3[count] = survived / (survived + died)\n",
    "    \n",
    "    y3[count] = np.mean(subset_participants[participant_id].values_sampled)\n",
    "    count += 1"
   ]
  },
  {
   "cell_type": "code",
   "execution_count": 44,
   "id": "1a18a06e",
   "metadata": {},
   "outputs": [
    {
     "data": {
      "image/png": "[encoded data removed]",
      "text/plain": [
       "<Figure size 432x288 with 1 Axes>"
      ]
     },
     "metadata": {
      "needs_background": "light"
     },
     "output_type": "display_data"
    }
   ],
   "source": [
    "# Create a scatter plot for each set of points\n",
    "plt.scatter(x1, y1, label='Rate reporting', color='blue')\n",
    "plt.scatter(x2, y2, label='Set reporting', color='green')\n",
    "plt.scatter(x3, y3, label='Subset reporting', color='red')\n",
    "\n",
    "# Set labels and title\n",
    "plt.xlabel('Actual Survival Rate')\n",
    "plt.ylabel('Reported Survival Rate')\n",
    "plt.title('Actual vs. Reported Survival Rates')\n",
    "\n",
    "# Add a reference line y=x\n",
    "plt.plot([min(x1.min(), x2.min(), x3.min()), max(x1.max(), x2.max(), x3.max())],\n",
    "         [min(x1.min(), x2.min(), x3.min()), max(x1.max(), x2.max(), x3.max())],\n",
    "         color='black', linestyle='--', linewidth=2, label='y=x')\n",
    "\n",
    "# Show legend\n",
    "plt.legend()\n",
    "\n",
    "plt.savefig('actual_vs_reported_rate.pdf')\n",
    "\n",
    "# Show the plot\n",
    "plt.show()"
   ]
  },
  {
   "cell_type": "code",
   "execution_count": 45,
   "id": "9e312c7c",
   "metadata": {},
   "outputs": [
    {
     "name": "stdout",
     "output_type": "stream",
     "text": [
      "Correlation coefficient for Rate reporting: 0.6152841761119806\n",
      "Correlation coefficient for Set reporting: 0.7307259493404109\n",
      "Correlation coefficient for Subset reporting: 0.33372851229052203\n"
     ]
    }
   ],
   "source": [
    "# Calculate correlation coefficients\n",
    "correlation_rate = np.corrcoef(x1, y1)[0, 1]\n",
    "correlation_set = np.corrcoef(x2, y2)[0, 1]\n",
    "correlation_subset = np.corrcoef(x3, y3)[0, 1]\n",
    "\n",
    "# Print the correlation coefficients\n",
    "print(\"Correlation coefficient for Rate reporting:\", correlation_rate)\n",
    "print(\"Correlation coefficient for Set reporting:\", correlation_set)\n",
    "print(\"Correlation coefficient for Subset reporting:\", correlation_subset)"
   ]
  },
  {
   "cell_type": "code",
   "execution_count": 51,
   "id": "916b3bb3",
   "metadata": {},
   "outputs": [
    {
     "name": "stdout",
     "output_type": "stream",
     "text": [
      "Rate reporting MSE: 0.022919999999999996\n",
      "Rate reporting MPE: 8.968557758031443\n",
      "Set reporting MSE: 0.02740973796926179\n",
      "Set reporting MPE: -12.75\n",
      "Subset reporting MSE: 0.19669444444444445\n",
      "Subset reporting MPE: -33.83333333333333\n"
     ]
    },
    {
     "name": "stderr",
     "output_type": "stream",
     "text": [
      "/Users/marinamancoridis/opt/anaconda3/envs/segmentation_model_py36/lib/python3.6/site-packages/ipykernel_launcher.py:8: RuntimeWarning: divide by zero encountered in true_divide\n",
      "  \n"
     ]
    }
   ],
   "source": [
    "mse1 = np.mean((y1 - x1)**2)\n",
    "mse2 = np.mean((y2 - x2)**2)\n",
    "mse3 = np.mean((y3 - x3)**2)\n",
    "\n",
    "# Calculate Mean Percentage Error (MPE) for each group\n",
    "mpe1 = np.mean(np.where(x1 != 0, ((y1 - x1) / x1) * 100, 0))\n",
    "mpe2 = np.mean(np.where(x2 != 0, ((y2 - x2) / x2) * 100, 0))\n",
    "mpe3 = np.mean(np.where(x3 != 0, ((y3 - x3) / x3) * 100, 0))\n",
    "\n",
    "# Print the results\n",
    "print(\"Rate reporting MSE:\", mse1)\n",
    "print(\"Rate reporting MPE:\", mpe1)\n",
    "\n",
    "print(\"Set reporting MSE:\", mse2)\n",
    "print(\"Set reporting MPE:\", mpe2)\n",
    "\n",
    "print(\"Subset reporting MSE:\", mse3)\n",
    "print(\"Subset reporting MPE:\", mpe3)"
   ]
  },
  {
   "cell_type": "markdown",
   "id": "d96e1c2f",
   "metadata": {},
   "source": [
    "### Finding out how people chose which bin to report"
   ]
  },
  {
   "cell_type": "code",
   "execution_count": 59,
   "id": "ce799164",
   "metadata": {},
   "outputs": [
    {
     "name": "stdout",
     "output_type": "stream",
     "text": [
      "Participant 1 reported the bin with the most data.\n",
      "Participant 1 reported the bin with the highest average survival rate.\n",
      "\n",
      "Participant 7 reported the bin with the most data.\n",
      "\n",
      "Participant 9 reported the bin with the most data.\n",
      "Participant 9 reported the bin with the highest average survival rate.\n",
      "\n",
      "Participant 13 reported the bin with the most data.\n",
      "\n",
      "\n",
      "Participant 20 reported the bin with the most data.\n",
      "\n",
      "\n",
      "Participant 30 reported the bin with the most data.\n",
      "Participant 30 reported the bin with the highest average survival rate.\n",
      "\n",
      "Participant 31 reported the bin with the most data.\n",
      "\n",
      "Participant 32 reported the bin with the most data.\n",
      "\n",
      "Participant 2 reported the bin with the most data.\n",
      "\n",
      "Participant 4 reported the bin with the most data.\n",
      "Participant 4 reported the bin with the highest average survival rate.\n",
      "\n",
      "\n",
      "Participant 11 reported the bin with the most data.\n",
      "\n",
      "Participant 18 reported the bin with the most data.\n",
      "\n",
      "Participant 22 reported the bin with the most data.\n",
      "Participant 22 reported the bin with the highest average survival rate.\n",
      "\n",
      "\n",
      "Participant 33 reported the bin with the most data.\n",
      "Participant 33 reported the bin with the highest average survival rate.\n",
      "\n",
      "\n",
      "Participant 35 reported the bin with the most data.\n",
      "\n",
      "Participant 3 reported the bin with the most data.\n",
      "Participant 3 reported the bin with the highest average survival rate.\n",
      "\n",
      "Participant 5 reported the bin with the most data.\n",
      "Participant 5 reported the bin with the highest average survival rate.\n",
      "\n",
      "Participant 6 reported the bin with the most data.\n",
      "Participant 6 reported the bin with the highest average survival rate.\n",
      "\n",
      "\n",
      "Participant 17 reported the bin with the most data.\n",
      "Participant 17 reported the bin with the highest average survival rate.\n",
      "\n",
      "\n",
      "Participant 26 reported the bin with the highest average survival rate.\n",
      "\n",
      "Participant 27 reported the bin with the most data.\n",
      "Participant 27 reported the bin with the highest average survival rate.\n",
      "\n",
      "Participant 29 reported the bin with the most data.\n",
      "\n",
      "Participant 38 reported the bin with the most data.\n",
      "Participant 38 reported the bin with the highest average survival rate.\n",
      "\n"
     ]
    }
   ],
   "source": [
    "# Iterate through each participant in full_participants\n",
    "num_md = 0\n",
    "num_mr = 0\n",
    "for participant_id, participant in full_participants.items():\n",
    "    # Check if the reported bin matches the bin with the most data\n",
    "    most_data_bin = max(set(participant.bin_sample_order), key=participant.bin_sample_order.count)\n",
    "    if participant.bin_choice == int(most_data_bin):\n",
    "        num_md += 1\n",
    "\n",
    "    # Check if the reported bin matches the bin with the highest average survival rate\n",
    "    highest_survival_rate_bin = max(set(participant.bin_sample_order), key=lambda x: participant.values_sampled[participant.bin_sample_order.index(x)])\n",
    "    if participant.bin_choice == int(highest_survival_rate_bin):\n",
    "        num_mr += 1\n",
    "\n",
    "print(\"Full participants...\")\n",
    "print(f\"Max data: {num_md}, Max survival rate: {num_mr}\")\n",
    "\n",
    "num_md = 0\n",
    "num_mr = 0\n",
    "# Repeat the process for subset_participants and headline_participants\n",
    "for participant_id, participant in subset_participants.items():\n",
    "    most_data_bin = max(set(participant.bin_sample_order), key=participant.bin_sample_order.count)\n",
    "    highest_survival_rate_bin = max(set(participant.bin_sample_order), key=lambda x: participant.values_sampled[participant.bin_sample_order.index(x)])\n",
    "    \n",
    "    if participant.bin_choice == int(most_data_bin):\n",
    "        num_md += 1\n",
    "    \n",
    "    if participant.bin_choice == int(highest_survival_rate_bin):\n",
    "        num_mr += 1\n",
    "    \n",
    "    print()\n",
    "\n",
    "print(\"Full participants...\")\n",
    "print(f\"Max data: {num_md}, Max survival rate: {num_mr}\")\n",
    "\n",
    "num_md = 0\n",
    "num_mr = 0\n",
    "\n",
    "for participant_id, participant in headline_participants.items():\n",
    "    # Check if the reported bin matches the bin with the most data\n",
    "    most_data_bin = max(set(participant.bin_sample_order), key=participant.bin_sample_order.count)\n",
    "    if participant.bin_choice == int(most_data_bin):\n",
    "        num_md += 1\n",
    "\n",
    "    # Check if the reported bin matches the bin with the highest average survival rate\n",
    "    highest_survival_rate_bin = max(set(participant.bin_sample_order), key=lambda x: participant.values_sampled[participant.bin_sample_order.index(x)])\n",
    "    if participant.bin_choice == int(highest_survival_rate_bin):\n",
    "        num_mr += 1\n",
    "\n",
    "    print()\n",
    "\n",
    "print(\"Full participants...\")\n",
    "print(f\"Max data: {num_md}, Max survival rate: {num_mr}\")"
   ]
  },
  {
   "cell_type": "code",
   "execution_count": null,
   "id": "d4c6d7bf",
   "metadata": {},
   "outputs": [],
   "source": []
  }
 ],
 "metadata": {
  "kernelspec": {
   "display_name": "segmentation_model_py36",
   "language": "python",
   "name": "segmentation_model_py36"
  },
  "language_info": {
   "codemirror_mode": {
    "name": "ipython",
    "version": 3
   },
   "file_extension": ".py",
   "mimetype": "text/x-python",
   "name": "python",
   "nbconvert_exporter": "python",
   "pygments_lexer": "ipython3",
   "version": "3.6.13"
  }
 },
 "nbformat": 4,
 "nbformat_minor": 5
}
