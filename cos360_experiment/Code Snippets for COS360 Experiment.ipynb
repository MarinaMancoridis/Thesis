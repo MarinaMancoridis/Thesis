{
 "cells": [
  {
   "cell_type": "markdown",
   "id": "89e5ae32",
   "metadata": {},
   "source": [
    "# Phase 1: Introduction\n",
    "Participants are faced with a multi-armed bandit problem where they sample pill containers. In this experiment, they act as scientists trying to treat ten diseased rats. They are told that these rats have a 50% chance of living and are able to draw potentially-curing pills from three distinct containers. After they draw a pill, they feed it to a rat and get a result pertaining to whether the rat lived or died. Their job is to make an scientific assessment about contents of each container.\n",
    "\n",
    "What the participants don't know is that all three containers contain placebo pills. No matter which container they choose from, the rat has a 50% chance of living. The participants have a limited amount of draws and are incentivized not only to produce accurate assessments and save the lives of their rats, but also to be published. This project aims to capture the “reproducibility crisis” in science, which is fundamentally a problem of over-reporting spurious results. Our question is \"Why does information aggregation in science lead to a reproducibility crisis?\" Our hypothesis is that different simulation settings will affect the frequency of false results being published."
   ]
  },
  {
   "cell_type": "markdown",
   "id": "e70c5496",
   "metadata": {},
   "source": [
    "## *Setting: Sampling pills*\n",
    "\n",
    "The following shows the prompts and images for the this setting."
   ]
  },
  {
   "cell_type": "code",
   "execution_count": 63,
   "id": "74d267b9",
   "metadata": {},
   "outputs": [
    {
     "name": "stdout",
     "output_type": "stream",
     "text": [
      "In this experiment, you are a researcher conducting a critical investigation into a disease that is affecting a population of rats. You know that if a rat has the disease, they have a 50% chance of living. You are responsible for ten rats. One day, you come across three pill containers, each of which contains a different type of drug. You believe that the contents of the containers have the potential to save your rats. However, you don't know anything about the drugs in each container. For each rat, draw from any of the containers and find out if the resultant pill was able to cure the rat. You can sample a pill from a container by clicking on it. You will see your next instructions after sampling.\n"
     ]
    }
   ],
   "source": [
    "# Prompt to the prober in the drug safety setting\n",
    "prompt_drugs = \"In this experiment, you are a researcher conducting a critical investigation into a disease that is affecting a population of rats. You know that if a rat has the disease, they have a 50% chance of living. You are responsible for ten rats. One day, you come across three pill containers, each of which contains a different type of drug. You believe that the contents of the containers have the potential to save your rats. However, you don't know anything about the drugs in each container. For each rat, draw from any of the containers and find out if the resultant pill was able to cure the rat. You can sample a pill from a container by clicking on it. You will see your next instructions after sampling.\"\n",
    "print(prompt_drugs)"
   ]
  },
  {
   "cell_type": "code",
   "execution_count": 64,
   "id": "db7b6345",
   "metadata": {},
   "outputs": [
    {
     "data": {
      "image/png": "[encoded data removed]",
      "text/plain": [
       "<Figure size 750x250 with 3 Axes>"
      ]
     },
     "metadata": {},
     "output_type": "display_data"
    }
   ],
   "source": [
    "import matplotlib.pyplot as plt\n",
    "import matplotlib.image as mpimg\n",
    "\n",
    "# Path to the image file\n",
    "image_path = \"pill_image.png\"\n",
    "\n",
    "# Desired width for each image\n",
    "image_width = 200  # Adjust this value according to your preference\n",
    "\n",
    "# Display three copies of the resized image side by side\n",
    "fig, axs = plt.subplots(1, 3, figsize=(image_width * 3 / 80, image_width / 80))\n",
    "for ax in axs:\n",
    "    img = mpimg.imread(image_path)\n",
    "    ax.imshow(img)\n",
    "    ax.axis('off')\n",
    "\n",
    "plt.show()"
   ]
  },
  {
   "cell_type": "markdown",
   "id": "b1f632bb",
   "metadata": {},
   "source": [
    "# Phase 2: Sampling\n",
    "\n",
    "The participants will now click on the images for a total of ten samples."
   ]
  },
  {
   "cell_type": "markdown",
   "id": "e03edd9a",
   "metadata": {},
   "source": [
    "## *Defining the distributions*\n",
    "\n",
    "The underlying distribution is binomial, meaning that there is a certain probability that the pill drawn cures the rat and a certain probability that the pill drawn kills the rat. All of the containers contain pills that are secretly placebos. This is not known to the participant. What this means is that the chance that any pill cures the rat is just the rat's survival rate: 50%."
   ]
  },
  {
   "cell_type": "code",
   "execution_count": 65,
   "id": "ac69d580",
   "metadata": {},
   "outputs": [
    {
     "name": "stdout",
     "output_type": "stream",
     "text": [
      "   You fed your pill to the rat and it survived!\n"
     ]
    }
   ],
   "source": [
    "# Defining urns\n",
    "import numpy as np\n",
    "import random\n",
    "\n",
    "class Urn:\n",
    "    def __init__(self):\n",
    "        pass  # No need for mean and std\n",
    "\n",
    "    def draw(self):\n",
    "        sample = random.choice([0, 1])\n",
    "        if sample == 0:\n",
    "            print(\"   You fed your pill to the rat, but it died.\")\n",
    "        elif sample == 1:\n",
    "            print(\"   You fed your pill to the rat and it survived!\")\n",
    "        return(sample)\n",
    "    \n",
    "urn = Urn()\n",
    "sample = urn.draw()"
   ]
  },
  {
   "cell_type": "code",
   "execution_count": 66,
   "id": "a61ae781",
   "metadata": {},
   "outputs": [],
   "source": [
    "# Make a setting of three urns\n",
    "class ExperimentSetting:\n",
    "    def __init__(self):\n",
    "        self.urns = [Urn() for _ in range(3)]\n",
    "\n",
    "# Setting with equal distribution\n",
    "setting = ExperimentSetting()"
   ]
  },
  {
   "cell_type": "markdown",
   "id": "817c2ceb",
   "metadata": {},
   "source": [
    "## *Creating participants who take draws*\n",
    "\n",
    "Participants will take one draw for each of their ten rats.\n",
    "- They can take draws from a particular bin with the add_sample_from_bin function. \n",
    "- Their draws are recorded in the self.samples array."
   ]
  },
  {
   "cell_type": "code",
   "execution_count": 67,
   "id": "922cc960",
   "metadata": {},
   "outputs": [],
   "source": [
    "# Keeps track of an individual's history and setting across ten samples for their distribution\n",
    "class Individual:\n",
    "    def __init__(self):\n",
    "        self.samples = []\n",
    "        self.experiment_setting = ExperimentSetting()\n",
    "\n",
    "    def add_sample_from_bin(self, bin_number):\n",
    "        print(f\"Sampling from bin {bin_number}\")\n",
    "        value = self.experiment_setting.urns[bin_number].draw()\n",
    "        self.samples.append({\"bin\": bin_number, \"value\":value})\n",
    "        \n",
    "    def print_results(self):        \n",
    "        # Dictionary to store counts for each bin\n",
    "        bin_counts = {}\n",
    "\n",
    "        for sample in self.samples:\n",
    "            bin_number = sample['bin']\n",
    "            value = sample['value']\n",
    "\n",
    "            # Initialize counts if the bin is encountered for the first time\n",
    "            if bin_number not in bin_counts:\n",
    "                bin_counts[bin_number] = {'dead': 0, 'alive': 0}\n",
    "\n",
    "            # Update counts based on the drawn value\n",
    "            if value == 0:\n",
    "                bin_counts[bin_number]['dead'] += 1\n",
    "            else:\n",
    "                bin_counts[bin_number]['alive'] += 1\n",
    "\n",
    "        # Display total counts and death rate percentage for each bin\n",
    "        for bin_number, counts in bin_counts.items():\n",
    "            total_samples = counts['dead'] + counts['alive']\n",
    "            survival_rate_percentage = (counts['alive'] / total_samples) * 100 if total_samples > 0 else 0\n",
    "\n",
    "            print(f\"\\nStatistics for bin {bin_number}:\")\n",
    "            print(f\"   Total Samples: {total_samples}\")\n",
    "            print(f\"   Number of Dead Rats: {counts['dead']}\")\n",
    "            print(f\"   Number of Alive Rats: {counts['alive']}\")\n",
    "            print(f\"   Survival Rate: {survival_rate_percentage:.2f}%\")\n"
   ]
  },
  {
   "cell_type": "code",
   "execution_count": 68,
   "id": "051df1dc",
   "metadata": {},
   "outputs": [
    {
     "name": "stdout",
     "output_type": "stream",
     "text": [
      "Sampling from bin 1\n",
      "   You fed your pill to the rat and it survived!\n",
      "Sampling from bin 1\n",
      "   You fed your pill to the rat and it survived!\n",
      "Sampling from bin 1\n",
      "   You fed your pill to the rat, but it died.\n",
      "Sampling from bin 2\n",
      "   You fed your pill to the rat and it survived!\n",
      "Sampling from bin 1\n",
      "   You fed your pill to the rat and it survived!\n",
      "Sampling from bin 1\n",
      "   You fed your pill to the rat and it survived!\n",
      "Sampling from bin 0\n",
      "   You fed your pill to the rat and it survived!\n",
      "Sampling from bin 0\n",
      "   You fed your pill to the rat and it survived!\n",
      "Sampling from bin 0\n",
      "   You fed your pill to the rat, but it died.\n"
     ]
    }
   ],
   "source": [
    "# Individual history for someone in the equal distribution who samples 10 random bins\n",
    "individual = Individual()\n",
    "for i in range(1, 10):\n",
    "    random_number = random.random()\n",
    "    if random_number < 1/3:\n",
    "        individual.add_sample_from_bin(0)\n",
    "    elif random_number < 2/3:\n",
    "        individual.add_sample_from_bin(1)\n",
    "    else:\n",
    "        individual.add_sample_from_bin(2)"
   ]
  },
  {
   "cell_type": "code",
   "execution_count": 69,
   "id": "13d06aa8",
   "metadata": {},
   "outputs": [
    {
     "name": "stdout",
     "output_type": "stream",
     "text": [
      "\n",
      "Statistics for bin 1:\n",
      "   Total Samples: 5\n",
      "   Number of Dead Rats: 1\n",
      "   Number of Alive Rats: 4\n",
      "   Survival Rate: 80.00%\n",
      "\n",
      "Statistics for bin 2:\n",
      "   Total Samples: 1\n",
      "   Number of Dead Rats: 0\n",
      "   Number of Alive Rats: 1\n",
      "   Survival Rate: 100.00%\n",
      "\n",
      "Statistics for bin 0:\n",
      "   Total Samples: 3\n",
      "   Number of Dead Rats: 1\n",
      "   Number of Alive Rats: 2\n",
      "   Survival Rate: 66.67%\n"
     ]
    }
   ],
   "source": [
    "individual.print_results()"
   ]
  },
  {
   "cell_type": "markdown",
   "id": "14a130a8",
   "metadata": {},
   "source": [
    "# Phase 3: Reporting results\n",
    "\n",
    "Now, the participants are going to have the option to report their findings to a board. The board will make an aggregated decision about which findings to publish to the wider public. This is where it gets interesting. We will tell the participants that their objective is not only to report accurate information, but also to publish their findings that they think will be interesting to the community in a scientific journal.\n",
    "\n",
    "\n",
    "We will give the participants one of three options for how to report their findings. Our main parameter here is changing the set of reports that the participants could issue given their data.\n",
    "- Pick a single urn and report the survival rate of its pill contents.\n",
    "- Pick a single urn and report the total number of rats that died and rats that stayed alive\n",
    "- Pick a single urn and choose a set of data to publish"
   ]
  },
  {
   "cell_type": "markdown",
   "id": "3eded97b",
   "metadata": {},
   "source": [
    "## *Participant prompts*\n",
    "\n",
    "The following shows the prompts that each user is given after they have taken ten draws."
   ]
  },
  {
   "cell_type": "code",
   "execution_count": 70,
   "id": "7b9b2e14",
   "metadata": {},
   "outputs": [
    {
     "name": "stdout",
     "output_type": "stream",
     "text": [
      "Thank you for taking your samples. Now, you will need to report your findings. Remember that your objective is not only to report accurate information, but also to publish the findings that you think will be interesting to the community in a scientific journal. You can only publish findings about one of the containers.\n",
      "\n"
     ]
    }
   ],
   "source": [
    "prompt_reporting_drugs = \"Thank you for taking your samples. Now, you will need to report your findings. Remember that your objective is not only to report accurate information, but also to publish the findings that you think will be interesting to the community in a scientific journal. You can only publish findings about one of the containers.\\n\"\n",
    "print(prompt_reporting_drugs)"
   ]
  },
  {
   "cell_type": "code",
   "execution_count": 71,
   "id": "b3e951ac",
   "metadata": {},
   "outputs": [],
   "source": [
    "class ReportingStructure:\n",
    "    def __init__(self, bandwidth_type, individual):\n",
    "        self.bandwidth_type = bandwidth_type\n",
    "        self.urn_assessment = []\n",
    "        self.individual = individual\n",
    "        self.samples = individual.samples\n",
    "        self.urn_choice = -1\n",
    "\n",
    "    def report_findings(self, individual):\n",
    "        print(prompt_reporting_drugs)\n",
    "        \n",
    "        if self.bandwidth_type == \"headline\":\n",
    "            print(\"Choose a container. Report a value for the survival rates of rats who take pills from that container. You are free to report a rate of your choice (a real result, a result you think will get published, or something else)\")\n",
    "\n",
    "            urn_assessment = []\n",
    "            while True:\n",
    "                try:\n",
    "                    urn_choice = int(input(\"Container number: \"))\n",
    "                    if (1 <= urn_choice <= 3 and any(sample['bin'] == urn_choice - 1 for sample in self.individual.samples)):\n",
    "                        self.urn_choice = urn_choice\n",
    "                        break\n",
    "                    else:\n",
    "                        print(\"Please enter a valid urn number (1, 2, or 3) that you have sampled from.\")\n",
    "                except ValueError:\n",
    "                    print(\"Please enter a valid integer.\")\n",
    "\n",
    "            # Calculate the empirically found survival rate for the chosen container\n",
    "            container_samples = [sample['value'] for sample in self.individual.samples if sample['bin'] == urn_choice - 1]\n",
    "            empirical_survival_rate = (sum(container_samples) / len(container_samples)) if container_samples else 0\n",
    "            print(f\"The empirically found survival rate for Container {urn_choice} is: {empirical_survival_rate:.2f}\")\n",
    "\n",
    "            while True:\n",
    "                try:\n",
    "                    survival_rate = float(input(f\"Report survival rate: \"))\n",
    "                    if survival_rate >= 0 and survival_rate <=1:\n",
    "                        urn_assessment.append(survival_rate)\n",
    "                        break\n",
    "                    else:\n",
    "                        print(\"Please enter a valid value between 0 and 1\")\n",
    "                except ValueError:\n",
    "                    print(\"Please enter a valid integer.\")\n",
    "                \n",
    "            print(\"Thank you for your report.\")\n",
    "            self.urn_assessment = urn_assessment\n",
    "\n",
    "        elif self.bandwidth_type == \"full\":\n",
    "            print(\"Choose a container. Report the number of rats that survived and died when taking pills from that container. You are free to report values of your choice (a real result, a result you think will get published, or something else)\")\n",
    "            \n",
    "            urn_assessment = []\n",
    "            while True:\n",
    "                try:\n",
    "                    urn_choice = int(input(\"Container number: \"))\n",
    "                    if (1 <= urn_choice <= 3 and any(sample['bin'] == urn_choice - 1 for sample in self.individual.samples)):\n",
    "                        self.urn_choice = urn_choice\n",
    "                        break\n",
    "                    else:\n",
    "                        print(\"Please enter a valid urn number (1, 2, or 3) that you have sampled from.\")\n",
    "                except ValueError:\n",
    "                    print(\"Please enter a valid integer.\")\n",
    "                    \n",
    "            # Calculate the empirically found number of rats that survived and died for the chosen container\n",
    "            container_samples = [sample['value'] for sample in self.individual.samples if sample['bin'] == urn_choice - 1]\n",
    "            empirical_num_survived = container_samples.count(1)\n",
    "            empirical_num_died = container_samples.count(0)\n",
    "            print(f\"The empirically found number of rats that survived for Container {urn_choice}: {empirical_num_survived}\")\n",
    "            print(f\"The empirically found number of rats that died for Container {urn_choice}: {empirical_num_died}\")\n",
    "            \n",
    "            while True:\n",
    "                try:\n",
    "                    num_survived = int(input(f\"Report the number of rats survived for urn {urn_choice}: \"))\n",
    "                    num_died = int(input(f\"Report the number of rats that died for urn {urn_choice}: \"))\n",
    "                    break\n",
    "                except ValueError:\n",
    "                    print(\"Please enter valid integers for the number of rats.\")\n",
    "\n",
    "            urn_assessment.append({\"urn\": urn_choice, \"num_survived\": num_survived, \"num_died\": num_died})\n",
    "            print(\"Thank you for your report.\")\n",
    "            self.urn_assessment = urn_assessment\n",
    "            \n",
    "        elif self.bandwidth_type == \"subset\":\n",
    "            print(\"Choose a container. Report a subset of your data for that container.\")\n",
    "\n",
    "            urn_assessment = []\n",
    "\n",
    "            while True:\n",
    "                try:\n",
    "                    urn_choice = int(input(\"Container number: \"))\n",
    "                    if 1 <= urn_choice <= 3 and any(sample['bin'] == urn_choice - 1 for sample in self.individual.samples):\n",
    "                        break\n",
    "                    else:\n",
    "                        print(\"Please enter a valid urn number (1, 2, or 3) that you have sampled from.\")\n",
    "                except ValueError:\n",
    "                    print(\"Please enter a valid integer.\")\n",
    "\n",
    "            container_samples = [sample for sample in self.individual.samples if sample['bin'] == urn_choice - 1]\n",
    "            valid_indices = [idx + 1 for idx, sample in enumerate(container_samples)]\n",
    "\n",
    "            print(f\"Your available samples for Container {urn_choice}:\")\n",
    "            for idx, sample in enumerate(container_samples):\n",
    "                if sample['value'] == 0:\n",
    "                    print(f\"Sample #{idx + 1}- Rat died\")\n",
    "                elif sample['value'] == 1:\n",
    "                    print(f\"Sample #{idx + 1}- Rat survived\")\n",
    "\n",
    "            while True:\n",
    "                try:\n",
    "                    subset_indices = input(\"Enter the indices of the samples you want to include (comma-separated): \")\n",
    "                    subset_indices = [int(idx.strip()) for idx in subset_indices.split(\",\") if int(idx.strip()) in valid_indices]\n",
    "\n",
    "                    # Check for duplicate indices\n",
    "                    if not subset_indices or len(subset_indices) != len(set(subset_indices)):\n",
    "                        print(\"Please enter valid and non-duplicate integer indices from the available options.\")\n",
    "                        continue\n",
    "\n",
    "                    break\n",
    "                except ValueError:\n",
    "                    print(\"Please enter valid integer indices separated by commas.\")\n",
    "\n",
    "            subset_data = [container_samples[idx - 1] for idx in subset_indices]\n",
    "            urn_assessment.append({\"urn\": urn_choice, \"subset_data\": subset_data})\n",
    "\n",
    "            print(\"Thank you for your report.\")\n",
    "            self.urn_assessment = urn_assessment"
   ]
  },
  {
   "cell_type": "code",
   "execution_count": 73,
   "id": "ccd202e1",
   "metadata": {},
   "outputs": [
    {
     "name": "stdout",
     "output_type": "stream",
     "text": [
      "Thank you for taking your samples. Now, you will need to report your findings. Remember that your objective is not only to report accurate information, but also to publish the findings that you think will be interesting to the community in a scientific journal. You can only publish findings about one of the containers.\n",
      "\n",
      "Choose a container. Report a value for the survival rates of rats who take pills from that container. You are free to report a rate of your choice (a real result, a result you think will get published, or something else)\n",
      "Container number: 2\n",
      "The empirically found survival rate for Container 2 is: 0.80\n",
      "Report survival rate: 0.8\n",
      "Thank you for your report.\n"
     ]
    }
   ],
   "source": [
    "# Example usage with binary headlines\n",
    "headline = ReportingStructure(bandwidth_type=\"headline\", individual=individual)\n",
    "headline.report_findings(individual)"
   ]
  },
  {
   "cell_type": "code",
   "execution_count": 74,
   "id": "18a9c7ea",
   "metadata": {},
   "outputs": [
    {
     "name": "stdout",
     "output_type": "stream",
     "text": [
      "Thank you for taking your samples. Now, you will need to report your findings. Remember that your objective is not only to report accurate information, but also to publish the findings that you think will be interesting to the community in a scientific journal. You can only publish findings about one of the containers.\n",
      "\n",
      "Choose a container. Report the number of rats that survived and died when taking pills from that container. You are free to report values of your choice (a real result, a result you think will get published, or something else)\n",
      "Container number: 3\n",
      "The empirically found number of rats that survived for Container 3: 1\n",
      "The empirically found number of rats that died for Container 3: 0\n",
      "Report the number of rats survived for urn 3: 1\n",
      "Report the number of rats that died for urn 3: 0\n",
      "Thank you for your report.\n"
     ]
    }
   ],
   "source": [
    "# Example usage with full reporting\n",
    "full = ReportingStructure(bandwidth_type=\"full\", individual=individual)\n",
    "full.report_findings(individual)"
   ]
  },
  {
   "cell_type": "code",
   "execution_count": 75,
   "id": "6c48922a",
   "metadata": {},
   "outputs": [
    {
     "name": "stdout",
     "output_type": "stream",
     "text": [
      "Thank you for taking your samples. Now, you will need to report your findings. Remember that your objective is not only to report accurate information, but also to publish the findings that you think will be interesting to the community in a scientific journal. You can only publish findings about one of the containers.\n",
      "\n",
      "Choose a container. Report a subset of your data for that container.\n",
      "Container number: 2\n",
      "Your available samples for Container 2:\n",
      "Sample #1- Rat survived\n",
      "Sample #2- Rat survived\n",
      "Sample #3- Rat died\n",
      "Sample #4- Rat survived\n",
      "Sample #5- Rat survived\n",
      "Enter the indices of the samples you want to include (comma-separated): 1, 2, 4, 5\n",
      "Thank you for your report.\n"
     ]
    }
   ],
   "source": [
    "# Example usage with partial information\n",
    "subset = ReportingStructure(bandwidth_type=\"subset\", individual=individual)\n",
    "subset.report_findings(individual)"
   ]
  },
  {
   "cell_type": "code",
   "execution_count": null,
   "id": "79a9ed05",
   "metadata": {},
   "outputs": [],
   "source": []
  }
 ],
 "metadata": {
  "kernelspec": {
   "display_name": "Python 3 (ipykernel)",
   "language": "python",
   "name": "python3"
  },
  "language_info": {
   "codemirror_mode": {
    "name": "ipython",
    "version": 3
   },
   "file_extension": ".py",
   "mimetype": "text/x-python",
   "name": "python",
   "nbconvert_exporter": "python",
   "pygments_lexer": "ipython3",
   "version": "3.8.8"
  }
 },
 "nbformat": 4,
 "nbformat_minor": 5
}
